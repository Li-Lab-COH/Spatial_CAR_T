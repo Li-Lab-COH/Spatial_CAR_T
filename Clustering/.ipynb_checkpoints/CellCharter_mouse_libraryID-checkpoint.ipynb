{
 "cells": [
  {
   "cell_type": "code",
   "execution_count": 83,
   "id": "97b065fc-c999-4aad-92ec-7425790eb834",
   "metadata": {},
   "outputs": [
    {
     "name": "stderr",
     "output_type": "stream",
     "text": [
      "Seed set to 12345\n",
      "Seed set to 12345\n"
     ]
    }
   ],
   "source": [
    "import anndata as ad\n",
    "import squidpy as sq\n",
    "import cellcharter as cc\n",
    "import pandas as pd\n",
    "import scanpy as sc\n",
    "import scvi\n",
    "import numpy as np\n",
    "import matplotlib.pyplot as plt\n",
    "from lightning.pytorch import seed_everything\n",
    "from pathlib import Path\n",
    "from skimage.io import imread\n",
    "\n",
    "import torch\n",
    "torch.set_float32_matmul_precision(\"high\")\n",
    "\n",
    "seed_everything(12345)\n",
    "scvi.settings.seed = 12345"
   ]
  },
  {
   "cell_type": "markdown",
   "id": "528c3f98-afab-4c28-9755-5a37fe8920c5",
   "metadata": {},
   "source": [
    "# Preparing data"
   ]
  },
  {
   "cell_type": "code",
   "execution_count": 84,
   "id": "399c6c13-ed05-4ac9-aeb8-17851b3c9836",
   "metadata": {},
   "outputs": [],
   "source": [
    "# # LAPTOP\n",
    "# segmentation_path = Path(\"/Users/janzules/Roselab/Spatial/CAR_T/data/cell_segmentation/\")\n",
    "\n",
    "# COMPUTER\n",
    "segmentation_path = Path(\"/mnt/c/Users/jonan/Documents/1Work/RoseLab/Spatial/CAR_T/data/cell_segmentation/\")\n",
    "adata_file     = segmentation_path / \"concatenated\" / \"combined_adata.h5ad\"\n",
    "geneList = segmentation_path / \"Gene_lists\"\n",
    "fig_out = Path(\"/Users/janzules/Roselab/Spatial/CAR_T/figures/clustering_results/\")\n",
    "ST_sample = sc.read_h5ad(adata_file)\n",
    "\n",
    "# ST_sample = ST_sample_org[ST_sample_org.obs['mouse'].isin([sample])].copy()\n",
    "# del ST_sample_org"
   ]
  },
  {
   "cell_type": "markdown",
   "id": "ac3ec873-e1f9-490f-b571-f28518d8edde",
   "metadata": {},
   "source": [
    "## Adding images"
   ]
  },
  {
   "cell_type": "code",
   "execution_count": 85,
   "id": "8fe4a7d2-9321-4da4-bdc8-0da66deab4e2",
   "metadata": {},
   "outputs": [],
   "source": [
    "# C:/Users/jonan/Documents/1Work/RoseLab/Spatial/CAR_T/data/images_for_alignments/121724-121924_RL_mRT_TMA4_1_TMA5_1\n",
    "\n",
    "# \"/mnt/c/Users/jonan/Documents/1Work/RoseLab/Spatial/CAR_T/data/images_for_alignments/121724-121924_RL_mRT_TMA4_1_TMA5_1/hne/\""
   ]
  },
  {
   "cell_type": "code",
   "execution_count": 86,
   "id": "2c4f0e06-f47d-4c26-bf36-1ccc1796d5d1",
   "metadata": {},
   "outputs": [],
   "source": [
    "# # LAPTOP\n",
    "# HNE_TIF_PATHS = {\n",
    "#     \"F07839\": Path(\"/Users/janzules/Roselab/Spatial/dietary_project/data/images_for_alignments/121724-121924_RL_mRT_TMA4_1_TMA5_1/hne/121724_RL_mRT_TMA4_Slide_1.tif\"),\n",
    "#     \"F07840\": Path(\"/Users/janzules/Roselab/Spatial/dietary_project/data/images_for_alignments/121724-121924_RL_mRT_TMA4_1_TMA5_1/hne/121724_RL_mRT_TMA5_Slide_1.tif\")\n",
    "# }\n",
    "\n",
    "# COMPUTER\n",
    "HNE_TIF_PATHS = {\n",
    "    \"F07839\": Path(\"/mnt/c/Users/jonan/Documents/1Work/RoseLab/Spatial/CAR_T/data/images_for_alignments/121724-121924_RL_mRT_TMA4_1_TMA5_1/hne/121724_RL_mRT_TMA4_Slide_1.tif\"),\n",
    "    \"F07840\": Path(\"/mnt/c/Users/jonan/Documents/1Work/RoseLab/Spatial/CAR_T/data/images_for_alignments/121724-121924_RL_mRT_TMA4_1_TMA5_1/hne/121724_RL_mRT_TMA5_Slide_1.tif\")\n",
    "}\n",
    "\n"
   ]
  },
  {
   "cell_type": "code",
   "execution_count": 87,
   "id": "ba249a6a-0b41-4570-8f33-368ba949dcfb",
   "metadata": {},
   "outputs": [],
   "source": [
    "ST_sample.obsm[\"spatial\"] = ST_sample.obs[[\"cx\", \"cy\"]].to_numpy()"
   ]
  },
  {
   "cell_type": "code",
   "execution_count": 88,
   "id": "97323ee8-8617-4162-b0c8-428ae86ebbbf",
   "metadata": {},
   "outputs": [
    {
     "ename": "KeyboardInterrupt",
     "evalue": "",
     "output_type": "error",
     "traceback": [
      "\u001b[0;31m---------------------------------------------------------------------------\u001b[0m",
      "\u001b[0;31mKeyboardInterrupt\u001b[0m                         Traceback (most recent call last)",
      "Cell \u001b[0;32mIn[88], line 10\u001b[0m\n\u001b[1;32m      8\u001b[0m ST_sample\u001b[38;5;241m.\u001b[39muns[\u001b[38;5;124m'\u001b[39m\u001b[38;5;124mspatial\u001b[39m\u001b[38;5;124m'\u001b[39m] \u001b[38;5;241m=\u001b[39m {}\n\u001b[1;32m      9\u001b[0m \u001b[38;5;28;01mfor\u001b[39;00m lib_id, tif_path \u001b[38;5;129;01min\u001b[39;00m HNE_TIF_PATHS\u001b[38;5;241m.\u001b[39mitems():\n\u001b[0;32m---> 10\u001b[0m     img \u001b[38;5;241m=\u001b[39m \u001b[43mimread\u001b[49m\u001b[43m(\u001b[49m\u001b[43mtif_path\u001b[49m\u001b[43m)\u001b[49m\n\u001b[1;32m     11\u001b[0m     ST_sample\u001b[38;5;241m.\u001b[39muns[\u001b[38;5;124m'\u001b[39m\u001b[38;5;124mspatial\u001b[39m\u001b[38;5;124m'\u001b[39m][lib_id] \u001b[38;5;241m=\u001b[39m {\n\u001b[1;32m     12\u001b[0m         \u001b[38;5;124m\"\u001b[39m\u001b[38;5;124mimages\u001b[39m\u001b[38;5;124m\"\u001b[39m: {\u001b[38;5;124m\"\u001b[39m\u001b[38;5;124mhires\u001b[39m\u001b[38;5;124m\"\u001b[39m: img},\n\u001b[1;32m     13\u001b[0m         \u001b[38;5;124m\"\u001b[39m\u001b[38;5;124mscalefactors\u001b[39m\u001b[38;5;124m\"\u001b[39m: {\n\u001b[0;32m   (...)\u001b[0m\n\u001b[1;32m     17\u001b[0m         }\n\u001b[1;32m     18\u001b[0m     }\n",
      "File \u001b[0;32m~/anaconda3/envs/spatial_analysis_env/lib/python3.10/site-packages/skimage/_shared/utils.py:328\u001b[0m, in \u001b[0;36mdeprecate_parameter.__call__.<locals>.fixed_func\u001b[0;34m(*args, **kwargs)\u001b[0m\n\u001b[1;32m    324\u001b[0m     \u001b[38;5;28;01melif\u001b[39;00m \u001b[38;5;28mself\u001b[39m\u001b[38;5;241m.\u001b[39mnew_name \u001b[38;5;129;01mis\u001b[39;00m \u001b[38;5;129;01mnot\u001b[39;00m \u001b[38;5;28;01mNone\u001b[39;00m:\n\u001b[1;32m    325\u001b[0m         \u001b[38;5;66;03m# Assign old value to new one\u001b[39;00m\n\u001b[1;32m    326\u001b[0m         kwargs[\u001b[38;5;28mself\u001b[39m\u001b[38;5;241m.\u001b[39mnew_name] \u001b[38;5;241m=\u001b[39m deprecated_value\n\u001b[0;32m--> 328\u001b[0m \u001b[38;5;28;01mreturn\u001b[39;00m \u001b[43mfunc\u001b[49m\u001b[43m(\u001b[49m\u001b[38;5;241;43m*\u001b[39;49m\u001b[43margs\u001b[49m\u001b[43m,\u001b[49m\u001b[43m \u001b[49m\u001b[38;5;241;43m*\u001b[39;49m\u001b[38;5;241;43m*\u001b[39;49m\u001b[43mkwargs\u001b[49m\u001b[43m)\u001b[49m\n",
      "File \u001b[0;32m~/anaconda3/envs/spatial_analysis_env/lib/python3.10/site-packages/skimage/io/_io.py:82\u001b[0m, in \u001b[0;36mimread\u001b[0;34m(fname, as_gray, plugin, **plugin_args)\u001b[0m\n\u001b[1;32m     79\u001b[0m         plugin \u001b[38;5;241m=\u001b[39m \u001b[38;5;124m'\u001b[39m\u001b[38;5;124mtifffile\u001b[39m\u001b[38;5;124m'\u001b[39m\n\u001b[1;32m     81\u001b[0m \u001b[38;5;28;01mwith\u001b[39;00m file_or_url_context(fname) \u001b[38;5;28;01mas\u001b[39;00m fname, _hide_plugin_deprecation_warnings():\n\u001b[0;32m---> 82\u001b[0m     img \u001b[38;5;241m=\u001b[39m \u001b[43mcall_plugin\u001b[49m\u001b[43m(\u001b[49m\u001b[38;5;124;43m'\u001b[39;49m\u001b[38;5;124;43mimread\u001b[39;49m\u001b[38;5;124;43m'\u001b[39;49m\u001b[43m,\u001b[49m\u001b[43m \u001b[49m\u001b[43mfname\u001b[49m\u001b[43m,\u001b[49m\u001b[43m \u001b[49m\u001b[43mplugin\u001b[49m\u001b[38;5;241;43m=\u001b[39;49m\u001b[43mplugin\u001b[49m\u001b[43m,\u001b[49m\u001b[43m \u001b[49m\u001b[38;5;241;43m*\u001b[39;49m\u001b[38;5;241;43m*\u001b[39;49m\u001b[43mplugin_args\u001b[49m\u001b[43m)\u001b[49m\n\u001b[1;32m     84\u001b[0m \u001b[38;5;28;01mif\u001b[39;00m \u001b[38;5;129;01mnot\u001b[39;00m \u001b[38;5;28mhasattr\u001b[39m(img, \u001b[38;5;124m'\u001b[39m\u001b[38;5;124mndim\u001b[39m\u001b[38;5;124m'\u001b[39m):\n\u001b[1;32m     85\u001b[0m     \u001b[38;5;28;01mreturn\u001b[39;00m img\n",
      "File \u001b[0;32m~/anaconda3/envs/spatial_analysis_env/lib/python3.10/site-packages/skimage/_shared/utils.py:538\u001b[0m, in \u001b[0;36mdeprecate_func.__call__.<locals>.wrapped\u001b[0;34m(*args, **kwargs)\u001b[0m\n\u001b[1;32m    536\u001b[0m stacklevel \u001b[38;5;241m=\u001b[39m \u001b[38;5;241m1\u001b[39m \u001b[38;5;241m+\u001b[39m \u001b[38;5;28mself\u001b[39m\u001b[38;5;241m.\u001b[39mget_stack_length(func) \u001b[38;5;241m-\u001b[39m stack_rank\n\u001b[1;32m    537\u001b[0m warnings\u001b[38;5;241m.\u001b[39mwarn(message, category\u001b[38;5;241m=\u001b[39m\u001b[38;5;167;01mFutureWarning\u001b[39;00m, stacklevel\u001b[38;5;241m=\u001b[39mstacklevel)\n\u001b[0;32m--> 538\u001b[0m \u001b[38;5;28;01mreturn\u001b[39;00m \u001b[43mfunc\u001b[49m\u001b[43m(\u001b[49m\u001b[38;5;241;43m*\u001b[39;49m\u001b[43margs\u001b[49m\u001b[43m,\u001b[49m\u001b[43m \u001b[49m\u001b[38;5;241;43m*\u001b[39;49m\u001b[38;5;241;43m*\u001b[39;49m\u001b[43mkwargs\u001b[49m\u001b[43m)\u001b[49m\n",
      "File \u001b[0;32m~/anaconda3/envs/spatial_analysis_env/lib/python3.10/site-packages/skimage/io/manage_plugins.py:254\u001b[0m, in \u001b[0;36mcall_plugin\u001b[0;34m(kind, *args, **kwargs)\u001b[0m\n\u001b[1;32m    251\u001b[0m     \u001b[38;5;28;01mexcept\u001b[39;00m \u001b[38;5;167;01mIndexError\u001b[39;00m:\n\u001b[1;32m    252\u001b[0m         \u001b[38;5;28;01mraise\u001b[39;00m \u001b[38;5;167;01mRuntimeError\u001b[39;00m(\u001b[38;5;124mf\u001b[39m\u001b[38;5;124m'\u001b[39m\u001b[38;5;124mCould not find the plugin \u001b[39m\u001b[38;5;124m\"\u001b[39m\u001b[38;5;132;01m{\u001b[39;00mplugin\u001b[38;5;132;01m}\u001b[39;00m\u001b[38;5;124m\"\u001b[39m\u001b[38;5;124m for \u001b[39m\u001b[38;5;132;01m{\u001b[39;00mkind\u001b[38;5;132;01m}\u001b[39;00m\u001b[38;5;124m.\u001b[39m\u001b[38;5;124m'\u001b[39m)\n\u001b[0;32m--> 254\u001b[0m \u001b[38;5;28;01mreturn\u001b[39;00m \u001b[43mfunc\u001b[49m\u001b[43m(\u001b[49m\u001b[38;5;241;43m*\u001b[39;49m\u001b[43margs\u001b[49m\u001b[43m,\u001b[49m\u001b[43m \u001b[49m\u001b[38;5;241;43m*\u001b[39;49m\u001b[38;5;241;43m*\u001b[39;49m\u001b[43mkwargs\u001b[49m\u001b[43m)\u001b[49m\n",
      "File \u001b[0;32m~/anaconda3/envs/spatial_analysis_env/lib/python3.10/site-packages/skimage/io/_plugins/tifffile_plugin.py:74\u001b[0m, in \u001b[0;36mimread\u001b[0;34m(fname, **kwargs)\u001b[0m\n\u001b[1;32m     71\u001b[0m \u001b[38;5;28;01mif\u001b[39;00m \u001b[38;5;124m'\u001b[39m\u001b[38;5;124mimg_num\u001b[39m\u001b[38;5;124m'\u001b[39m \u001b[38;5;129;01min\u001b[39;00m kwargs:\n\u001b[1;32m     72\u001b[0m     kwargs[\u001b[38;5;124m'\u001b[39m\u001b[38;5;124mkey\u001b[39m\u001b[38;5;124m'\u001b[39m] \u001b[38;5;241m=\u001b[39m kwargs\u001b[38;5;241m.\u001b[39mpop(\u001b[38;5;124m'\u001b[39m\u001b[38;5;124mimg_num\u001b[39m\u001b[38;5;124m'\u001b[39m)\n\u001b[0;32m---> 74\u001b[0m \u001b[38;5;28;01mreturn\u001b[39;00m \u001b[43mtifffile_imread\u001b[49m\u001b[43m(\u001b[49m\u001b[43mfname\u001b[49m\u001b[43m,\u001b[49m\u001b[43m \u001b[49m\u001b[38;5;241;43m*\u001b[39;49m\u001b[38;5;241;43m*\u001b[39;49m\u001b[43mkwargs\u001b[49m\u001b[43m)\u001b[49m\n",
      "File \u001b[0;32m~/anaconda3/envs/spatial_analysis_env/lib/python3.10/site-packages/tifffile/tifffile.py:1235\u001b[0m, in \u001b[0;36mimread\u001b[0;34m(files, selection, aszarr, key, series, level, squeeze, maxworkers, buffersize, mode, name, offset, size, pattern, axesorder, categories, imread, imreadargs, sort, container, chunkshape, chunkdtype, axestiled, ioworkers, chunkmode, fillvalue, zattrs, multiscales, omexml, out, out_inplace, _multifile, _useframes, **kwargs)\u001b[0m\n\u001b[1;32m   1233\u001b[0m                     \u001b[38;5;28;01mreturn\u001b[39;00m store\n\u001b[1;32m   1234\u001b[0m                 \u001b[38;5;28;01mreturn\u001b[39;00m zarr_selection(store, selection, out\u001b[38;5;241m=\u001b[39mout)\n\u001b[0;32m-> 1235\u001b[0m             \u001b[38;5;28;01mreturn\u001b[39;00m \u001b[43mtif\u001b[49m\u001b[38;5;241;43m.\u001b[39;49m\u001b[43masarray\u001b[49m\u001b[43m(\u001b[49m\n\u001b[1;32m   1236\u001b[0m \u001b[43m                \u001b[49m\u001b[43mkey\u001b[49m\u001b[38;5;241;43m=\u001b[39;49m\u001b[43mkey\u001b[49m\u001b[43m,\u001b[49m\n\u001b[1;32m   1237\u001b[0m \u001b[43m                \u001b[49m\u001b[43mseries\u001b[49m\u001b[38;5;241;43m=\u001b[39;49m\u001b[43mseries\u001b[49m\u001b[43m,\u001b[49m\n\u001b[1;32m   1238\u001b[0m \u001b[43m                \u001b[49m\u001b[43mlevel\u001b[49m\u001b[38;5;241;43m=\u001b[39;49m\u001b[43mlevel\u001b[49m\u001b[43m,\u001b[49m\n\u001b[1;32m   1239\u001b[0m \u001b[43m                \u001b[49m\u001b[43msqueeze\u001b[49m\u001b[38;5;241;43m=\u001b[39;49m\u001b[43msqueeze\u001b[49m\u001b[43m,\u001b[49m\n\u001b[1;32m   1240\u001b[0m \u001b[43m                \u001b[49m\u001b[43mmaxworkers\u001b[49m\u001b[38;5;241;43m=\u001b[39;49m\u001b[43mmaxworkers\u001b[49m\u001b[43m,\u001b[49m\n\u001b[1;32m   1241\u001b[0m \u001b[43m                \u001b[49m\u001b[43mbuffersize\u001b[49m\u001b[38;5;241;43m=\u001b[39;49m\u001b[43mbuffersize\u001b[49m\u001b[43m,\u001b[49m\n\u001b[1;32m   1242\u001b[0m \u001b[43m                \u001b[49m\u001b[43mout\u001b[49m\u001b[38;5;241;43m=\u001b[39;49m\u001b[43mout\u001b[49m\u001b[43m,\u001b[49m\n\u001b[1;32m   1243\u001b[0m \u001b[43m            \u001b[49m\u001b[43m)\u001b[49m\n\u001b[1;32m   1245\u001b[0m \u001b[38;5;28;01melif\u001b[39;00m \u001b[38;5;28misinstance\u001b[39m(files, (FileHandle, IO)):\n\u001b[1;32m   1246\u001b[0m     \u001b[38;5;28;01mraise\u001b[39;00m \u001b[38;5;167;01mValueError\u001b[39;00m(\u001b[38;5;124m'\u001b[39m\u001b[38;5;124mBinaryIO not supported\u001b[39m\u001b[38;5;124m'\u001b[39m)\n",
      "File \u001b[0;32m~/anaconda3/envs/spatial_analysis_env/lib/python3.10/site-packages/tifffile/tifffile.py:4495\u001b[0m, in \u001b[0;36mTiffFile.asarray\u001b[0;34m(self, key, series, level, squeeze, out, maxworkers, buffersize)\u001b[0m\n\u001b[1;32m   4493\u001b[0m     \u001b[38;5;28;01mif\u001b[39;00m page0 \u001b[38;5;129;01mis\u001b[39;00m \u001b[38;5;28;01mNone\u001b[39;00m:\n\u001b[1;32m   4494\u001b[0m         \u001b[38;5;28;01mraise\u001b[39;00m \u001b[38;5;167;01mValueError\u001b[39;00m(\u001b[38;5;124m'\u001b[39m\u001b[38;5;124mpage is None\u001b[39m\u001b[38;5;124m'\u001b[39m)\n\u001b[0;32m-> 4495\u001b[0m     result \u001b[38;5;241m=\u001b[39m \u001b[43mpage0\u001b[49m\u001b[38;5;241;43m.\u001b[39;49m\u001b[43masarray\u001b[49m\u001b[43m(\u001b[49m\n\u001b[1;32m   4496\u001b[0m \u001b[43m        \u001b[49m\u001b[43mout\u001b[49m\u001b[38;5;241;43m=\u001b[39;49m\u001b[43mout\u001b[49m\u001b[43m,\u001b[49m\u001b[43m \u001b[49m\u001b[43mmaxworkers\u001b[49m\u001b[38;5;241;43m=\u001b[39;49m\u001b[43mmaxworkers\u001b[49m\u001b[43m,\u001b[49m\u001b[43m \u001b[49m\u001b[43mbuffersize\u001b[49m\u001b[38;5;241;43m=\u001b[39;49m\u001b[43mbuffersize\u001b[49m\n\u001b[1;32m   4497\u001b[0m \u001b[43m    \u001b[49m\u001b[43m)\u001b[49m\n\u001b[1;32m   4498\u001b[0m \u001b[38;5;28;01melse\u001b[39;00m:\n\u001b[1;32m   4499\u001b[0m     result \u001b[38;5;241m=\u001b[39m stack_pages(\n\u001b[1;32m   4500\u001b[0m         pages, out\u001b[38;5;241m=\u001b[39mout, maxworkers\u001b[38;5;241m=\u001b[39mmaxworkers, buffersize\u001b[38;5;241m=\u001b[39mbuffersize\n\u001b[1;32m   4501\u001b[0m     )\n",
      "File \u001b[0;32m~/anaconda3/envs/spatial_analysis_env/lib/python3.10/site-packages/tifffile/tifffile.py:8831\u001b[0m, in \u001b[0;36mTiffPage.asarray\u001b[0;34m(self, out, squeeze, lock, maxworkers, buffersize)\u001b[0m\n\u001b[1;32m   8821\u001b[0m             out[\n\u001b[1;32m   8822\u001b[0m                 s, d : d \u001b[38;5;241m+\u001b[39m shape[\u001b[38;5;241m0\u001b[39m], h : h \u001b[38;5;241m+\u001b[39m shape[\u001b[38;5;241m1\u001b[39m], w : w \u001b[38;5;241m+\u001b[39m shape[\u001b[38;5;241m2\u001b[39m]\n\u001b[1;32m   8823\u001b[0m             ] \u001b[38;5;241m=\u001b[39m segment[\n\u001b[0;32m   (...)\u001b[0m\n\u001b[1;32m   8826\u001b[0m                 : keyframe\u001b[38;5;241m.\u001b[39mimagewidth \u001b[38;5;241m-\u001b[39m w,\n\u001b[1;32m   8827\u001b[0m             ]\n\u001b[1;32m   8828\u001b[0m         \u001b[38;5;66;03m# except IndexError:\u001b[39;00m\n\u001b[1;32m   8829\u001b[0m         \u001b[38;5;66;03m#     pass  # corrupted file, for example, with too many strips\u001b[39;00m\n\u001b[0;32m-> 8831\u001b[0m     \u001b[38;5;28;01mfor\u001b[39;00m _ \u001b[38;5;129;01min\u001b[39;00m \u001b[38;5;28mself\u001b[39m\u001b[38;5;241m.\u001b[39msegments(\n\u001b[1;32m   8832\u001b[0m         func\u001b[38;5;241m=\u001b[39mfunc,\n\u001b[1;32m   8833\u001b[0m         lock\u001b[38;5;241m=\u001b[39mlock,\n\u001b[1;32m   8834\u001b[0m         maxworkers\u001b[38;5;241m=\u001b[39mmaxworkers,\n\u001b[1;32m   8835\u001b[0m         buffersize\u001b[38;5;241m=\u001b[39mbuffersize,\n\u001b[1;32m   8836\u001b[0m         sort\u001b[38;5;241m=\u001b[39m\u001b[38;5;28;01mTrue\u001b[39;00m,\n\u001b[1;32m   8837\u001b[0m         _fullsize\u001b[38;5;241m=\u001b[39m\u001b[38;5;28;01mFalse\u001b[39;00m,\n\u001b[1;32m   8838\u001b[0m     ):\n\u001b[1;32m   8839\u001b[0m         \u001b[38;5;28;01mpass\u001b[39;00m\n\u001b[1;32m   8841\u001b[0m result\u001b[38;5;241m.\u001b[39mshape \u001b[38;5;241m=\u001b[39m keyframe\u001b[38;5;241m.\u001b[39mshaped\n",
      "File \u001b[0;32m~/anaconda3/envs/spatial_analysis_env/lib/python3.10/site-packages/tifffile/tifffile.py:8637\u001b[0m, in \u001b[0;36mTiffPage.segments\u001b[0;34m(self, lock, maxworkers, func, sort, buffersize, _fullsize)\u001b[0m\n\u001b[1;32m   8632\u001b[0m \u001b[38;5;28;01melse\u001b[39;00m:\n\u001b[1;32m   8633\u001b[0m     \u001b[38;5;66;03m# reduce memory overhead by processing chunks of up to\u001b[39;00m\n\u001b[1;32m   8634\u001b[0m     \u001b[38;5;66;03m# buffersize of segments because ThreadPoolExecutor.map is not\u001b[39;00m\n\u001b[1;32m   8635\u001b[0m     \u001b[38;5;66;03m# collecting iterables lazily\u001b[39;00m\n\u001b[1;32m   8636\u001b[0m     \u001b[38;5;28;01mwith\u001b[39;00m ThreadPoolExecutor(maxworkers) \u001b[38;5;28;01mas\u001b[39;00m executor:\n\u001b[0;32m-> 8637\u001b[0m         \u001b[38;5;28;01mfor\u001b[39;00m segments \u001b[38;5;129;01min\u001b[39;00m fh\u001b[38;5;241m.\u001b[39mread_segments(\n\u001b[1;32m   8638\u001b[0m             \u001b[38;5;28mself\u001b[39m\u001b[38;5;241m.\u001b[39mdataoffsets,\n\u001b[1;32m   8639\u001b[0m             \u001b[38;5;28mself\u001b[39m\u001b[38;5;241m.\u001b[39mdatabytecounts,\n\u001b[1;32m   8640\u001b[0m             lock\u001b[38;5;241m=\u001b[39mlock,\n\u001b[1;32m   8641\u001b[0m             sort\u001b[38;5;241m=\u001b[39msort,\n\u001b[1;32m   8642\u001b[0m             buffersize\u001b[38;5;241m=\u001b[39mbuffersize,\n\u001b[1;32m   8643\u001b[0m             flat\u001b[38;5;241m=\u001b[39m\u001b[38;5;28;01mFalse\u001b[39;00m,\n\u001b[1;32m   8644\u001b[0m         ):\n\u001b[1;32m   8645\u001b[0m             \u001b[38;5;28;01myield from\u001b[39;00m executor\u001b[38;5;241m.\u001b[39mmap(decode, segments)\n",
      "File \u001b[0;32m~/anaconda3/envs/spatial_analysis_env/lib/python3.10/site-packages/tifffile/tifffile.py:15122\u001b[0m, in \u001b[0;36mFileHandle.read_segments\u001b[0;34m(self, offsets, bytecounts, indices, sort, lock, buffersize, flat)\u001b[0m\n\u001b[1;32m  15120\u001b[0m     data \u001b[38;5;241m=\u001b[39m \u001b[38;5;28;01mNone\u001b[39;00m\n\u001b[1;32m  15121\u001b[0m \u001b[38;5;28;01melse\u001b[39;00m:\n\u001b[0;32m> 15122\u001b[0m     \u001b[38;5;28;01mwith\u001b[39;00m lock:\n\u001b[1;32m  15123\u001b[0m         seek(offset)\n\u001b[1;32m  15124\u001b[0m         data \u001b[38;5;241m=\u001b[39m read(bytecount)\n",
      "File \u001b[0;32m~/anaconda3/envs/spatial_analysis_env/lib/python3.10/site-packages/tifffile/tifffile.py:15678\u001b[0m, in \u001b[0;36mNullContext.__exit__\u001b[0;34m(self, exc_type, exc_value, traceback)\u001b[0m\n\u001b[1;32m  15675\u001b[0m \u001b[38;5;28;01mdef\u001b[39;00m\u001b[38;5;250m \u001b[39m\u001b[38;5;21m__enter__\u001b[39m(\u001b[38;5;28mself\u001b[39m) \u001b[38;5;241m-\u001b[39m\u001b[38;5;241m>\u001b[39m NullContext:\n\u001b[1;32m  15676\u001b[0m     \u001b[38;5;28;01mreturn\u001b[39;00m \u001b[38;5;28mself\u001b[39m\n\u001b[0;32m> 15678\u001b[0m \u001b[38;5;28;01mdef\u001b[39;00m\u001b[38;5;250m \u001b[39m\u001b[38;5;21m__exit__\u001b[39m(\u001b[38;5;28mself\u001b[39m, exc_type: Any, exc_value: Any, traceback: Any) \u001b[38;5;241m-\u001b[39m\u001b[38;5;241m>\u001b[39m \u001b[38;5;28;01mNone\u001b[39;00m:\n\u001b[1;32m  15679\u001b[0m     \u001b[38;5;28;01mpass\u001b[39;00m\n\u001b[1;32m  15681\u001b[0m \u001b[38;5;28;01mdef\u001b[39;00m\u001b[38;5;250m \u001b[39m\u001b[38;5;21m__repr__\u001b[39m(\u001b[38;5;28mself\u001b[39m) \u001b[38;5;241m-\u001b[39m\u001b[38;5;241m>\u001b[39m \u001b[38;5;28mstr\u001b[39m:\n",
      "\u001b[0;31mKeyboardInterrupt\u001b[0m: "
     ]
    }
   ],
   "source": [
    "# 1) Make sure your AnnData knows which “library” (TMA) each spot comes from.\n",
    "#    We’ll use your existing 'TMA' column as the library_key:\n",
    "# ST_sample.obs['library_id'] = ST_sample.obs['TMA'] # This seems to be considering each section in a TMA as one section. Maybe\n",
    "ST_sample.obs['library_id'] = ST_sample.obs['mouse']\n",
    "\n",
    "# 2) Build the minimal `adata.uns['spatial']` structure Squidpy expects:\n",
    "#    For each TMA, point to your H&E image (as a numpy array) and set a scale factor.\n",
    "ST_sample.uns['spatial'] = {}\n",
    "for lib_id, tif_path in HNE_TIF_PATHS.items():\n",
    "    img = imread(tif_path)\n",
    "    ST_sample.uns['spatial'][lib_id] = {\n",
    "        \"images\": {\"hires\": img},\n",
    "        \"scalefactors\": {\n",
    "            \"tissue_hires_scalef\": 1.0,\n",
    "            \"spot_diameter_fullres\": 100.0,   # <- add this\n",
    "            \"tissue_lowres_scalef\": 1.0,      # <- add this (not always needed)\n",
    "        }\n",
    "    }"
   ]
  },
  {
   "cell_type": "code",
   "execution_count": null,
   "id": "f5e1529b-1c49-476f-9f6f-e88a57e92500",
   "metadata": {},
   "outputs": [],
   "source": [
    "sc.pp.filter_genes(ST_sample, min_counts=3)\n",
    "sc.pp.filter_cells(ST_sample, min_counts=50)"
   ]
  },
  {
   "cell_type": "code",
   "execution_count": null,
   "id": "dcf5e8c1-f924-493d-bf85-8c8cd5d3a246",
   "metadata": {},
   "outputs": [],
   "source": [
    "ST_sample.layers['counts'] = ST_sample.X.copy()"
   ]
  },
  {
   "cell_type": "code",
   "execution_count": null,
   "id": "8dbe6818-1dbc-4392-bbc9-db1f0d1e915b",
   "metadata": {},
   "outputs": [],
   "source": [
    "sc.pp.normalize_total(ST_sample, target_sum=1e6)\n",
    "sc.pp.log1p(ST_sample)"
   ]
  },
  {
   "cell_type": "markdown",
   "id": "ce774b1a-9b5c-47ab-ae06-af7eba3cc7d8",
   "metadata": {},
   "source": [
    "# Dimensionality Reduction"
   ]
  },
  {
   "cell_type": "code",
   "execution_count": null,
   "id": "c399edcd-88e4-4bbf-96a8-d92f1f2b79ea",
   "metadata": {},
   "outputs": [],
   "source": [
    "scvi.model.SCVI.setup_anndata(\n",
    "    ST_sample,\n",
    "    layer=\"counts\",\n",
    "    # batch_key=\"mouse\"\n",
    "    batch_key=\"library_id\" # after changing\n",
    ")\n",
    "\n",
    "model = scvi.model.SCVI(ST_sample)"
   ]
  },
  {
   "cell_type": "code",
   "execution_count": null,
   "id": "03fd1e64-3c40-4049-8551-94ed1e7d10cc",
   "metadata": {},
   "outputs": [],
   "source": [
    "# # LAPTOP\n",
    "# model.train(early_stopping=True, enable_progress_bar=True, accelerator=\"mps\")\n",
    "\n",
    "# COMPUTER\n",
    "model.train(early_stopping=True, enable_progress_bar=True, accelerator=\"cuda\")"
   ]
  },
  {
   "cell_type": "code",
   "execution_count": null,
   "id": "d25870d6-4369-4084-a4a7-85f45a4fbaee",
   "metadata": {},
   "outputs": [],
   "source": [
    "ST_sample.obsm['X_scVI'] = model.get_latent_representation(ST_sample).astype(np.float32)"
   ]
  },
  {
   "cell_type": "code",
   "execution_count": null,
   "id": "16ccdc33-678d-42a6-88b6-146cafebf3fb",
   "metadata": {},
   "outputs": [],
   "source": [
    "sq.gr.spatial_neighbors(ST_sample, library_key='mouse', coord_type='generic', delaunay=True)"
   ]
  },
  {
   "cell_type": "markdown",
   "id": "a20fa0d9-a064-4c3c-8144-34eed7d0afe6",
   "metadata": {},
   "source": [
    "# CellCharter's spatial clustering"
   ]
  },
  {
   "cell_type": "code",
   "execution_count": null,
   "id": "7f4bc2be-27d7-4054-803c-00a50e8203c1",
   "metadata": {},
   "outputs": [],
   "source": [
    "# grabbing coords for CyPSCA_1_2\n",
    "\n",
    "# Adjust this column name if needed\n",
    "subset = ST_sample[ST_sample.obs['mouse'] == 'CyPSCA_1_2']\n",
    "\n",
    "# Extract (cx, cy) coordinates\n",
    "coords = subset.obsm['spatial']\n",
    "\n",
    "# Compute bounding box\n",
    "xmin = np.min(coords[:, 0])\n",
    "xmax = np.max(coords[:, 0])\n",
    "ymin = np.min(coords[:, 1])\n",
    "ymax = np.max(coords[:, 1])\n",
    "\n",
    "print(f\"xmin: {xmin}, xmax: {xmax}\")\n",
    "print(f\"ymin: {ymin}, ymax: {ymax}\")\n"
   ]
  },
  {
   "cell_type": "code",
   "execution_count": null,
   "id": "03b3162f-fe50-4f86-beef-c8aba68ab8c9",
   "metadata": {},
   "outputs": [],
   "source": [
    "# 1. Subset AnnData for the target mouse/condition\n",
    "subset = ST_sample[ST_sample.obs['mouse'] == 'CyPSCA_1_2']\n",
    "\n",
    "# 2. Extract spatial coordinates\n",
    "coords = subset.obsm['spatial']\n",
    "xmin, xmax = coords[:, 0].min(), coords[:, 0].max()\n",
    "ymin, ymax = coords[:, 1].min(), coords[:, 1].max()\n",
    "\n",
    "# Optional: Add margin (e.g., 100 pixels on each side)\n",
    "margin = 100\n",
    "crop_coord = (\n",
    "    int(xmin - margin),\n",
    "    int(ymin - margin),\n",
    "    int(xmax + margin),\n",
    "    int(ymax + margin)\n",
    ")\n",
    "\n",
    "print(\"Crop coordinates:\", crop_coord)\n"
   ]
  },
  {
   "cell_type": "code",
   "execution_count": null,
   "id": "2cd5a127-b1d8-4ed0-bc7a-cd6c04a0d14e",
   "metadata": {},
   "outputs": [],
   "source": [
    "# Get the unique TMA(s) that contain this mouse\n",
    "ST_sample.obs.loc[ST_sample.obs['mouse'] == 'CyPSCA_1_2', 'TMA'].unique()"
   ]
  },
  {
   "cell_type": "code",
   "execution_count": null,
   "id": "d03b8816-1b84-46d1-ae1b-76873e7a4972",
   "metadata": {},
   "outputs": [],
   "source": []
  },
  {
   "cell_type": "code",
   "execution_count": null,
   "id": "cd65d31e-efc7-4cec-8e0b-4ddaa47a1dc9",
   "metadata": {},
   "outputs": [],
   "source": [
    "sq.pl.spatial_scatter(\n",
    "    ST_sample,\n",
    "    shape=None,\n",
    "    spatial_key='spatial',\n",
    "    library_key='library_id',\n",
    "    library_id=['F07840'],         # or whichever TMA sample contains CyPSCA_1_2\n",
    "    crop_coord=crop_coord,\n",
    "    img=True,\n",
    "    img_alpha=1,\n",
    "    color='condition',\n",
    "    connectivity_key='spatial_connectivities',\n",
    "    size=0.01,\n",
    "    edges_width=0.3,\n",
    "    legend_loc='right',\n",
    "    title=['CyPSCA_1_2']\n",
    ")\n"
   ]
  },
  {
   "cell_type": "code",
   "execution_count": null,
   "id": "b44fdd8e-bb50-4a05-b422-1dc19e8d238b",
   "metadata": {},
   "outputs": [],
   "source": [
    "cc.gr.remove_long_links(ST_sample)"
   ]
  },
  {
   "cell_type": "code",
   "execution_count": null,
   "id": "0802c83a-2755-4636-a052-5efdffdb0a37",
   "metadata": {},
   "outputs": [],
   "source": [
    "sq.pl.spatial_scatter(\n",
    "    ST_sample,\n",
    "    shape=None,\n",
    "    spatial_key='spatial',\n",
    "    library_key='library_id',\n",
    "    library_id=['F07840'],         # or whichever TMA sample contains CyPSCA_1_2\n",
    "    crop_coord=crop_coord,\n",
    "    img=True,\n",
    "    img_alpha=1,\n",
    "    color='condition',\n",
    "    connectivity_key='spatial_connectivities',\n",
    "    size=0.01,\n",
    "    edges_width=0.3,\n",
    "    legend_loc='right',\n",
    "    title=['CyPSCA_1_2']\n",
    ")\n"
   ]
  },
  {
   "cell_type": "code",
   "execution_count": null,
   "id": "8519be8f-dc9d-4359-83e9-d4261bca598e",
   "metadata": {},
   "outputs": [],
   "source": []
  },
  {
   "cell_type": "code",
   "execution_count": null,
   "id": "9de82432-1af3-4c0a-85e4-8e7dbce392cf",
   "metadata": {},
   "outputs": [],
   "source": [
    "# output = segmentation_path / \"scvi_all.h5ad\""
   ]
  },
  {
   "cell_type": "code",
   "execution_count": null,
   "id": "0c0859fb-cac3-4327-9926-a874fee558a7",
   "metadata": {},
   "outputs": [],
   "source": [
    "# ST_sample.write(output)"
   ]
  },
  {
   "cell_type": "markdown",
   "id": "b3e48e39-31f4-4272-9848-6b442ecf0a79",
   "metadata": {},
   "source": [
    "# Clustering"
   ]
  },
  {
   "cell_type": "code",
   "execution_count": null,
   "id": "8d95af08-806c-42ed-a7e7-bac3a5d6ecd1",
   "metadata": {},
   "outputs": [],
   "source": [
    "# ST_sample = sc.read_h5ad(\"/mnt/c/Users/jonan/Documents/1Work/RoseLab/Spatial/CAR_T/data/cell_segmentation/concatenated/scvi_all.h5ad\")"
   ]
  },
  {
   "cell_type": "code",
   "execution_count": null,
   "id": "2a0e4e97-9467-4f4e-81fc-b230d71ae692",
   "metadata": {
    "scrolled": true
   },
   "outputs": [],
   "source": [
    "sq.gr.spatial_neighbors(ST_sample, library_key='mouse', coord_type='generic', delaunay=True, spatial_key='spatial', percentile=99)"
   ]
  },
  {
   "cell_type": "code",
   "execution_count": null,
   "id": "f78fd13b-6f6b-4002-b7cb-e8be2d8f67e7",
   "metadata": {},
   "outputs": [],
   "source": [
    "cc.gr.aggregate_neighbors(ST_sample, n_layers=3, use_rep='X_scVI', out_key='X_cellcharter', sample_key='mouse')"
   ]
  },
  {
   "cell_type": "code",
   "execution_count": null,
   "id": "8cf17d0f-f900-4043-a9af-1c2552a4b501",
   "metadata": {},
   "outputs": [],
   "source": [
    "autok = cc.tl.ClusterAutoK(\n",
    "    n_clusters=(2,10), \n",
    "    max_runs=10,\n",
    "    convergence_tol=0.001\n",
    ")"
   ]
  },
  {
   "cell_type": "code",
   "execution_count": null,
   "id": "10cddc6f-7680-4ac9-a1f6-0bed19cb5a31",
   "metadata": {
    "scrolled": true
   },
   "outputs": [],
   "source": [
    "autok.fit(ST_sample, use_rep='X_cellcharter')"
   ]
  },
  {
   "cell_type": "code",
   "execution_count": null,
   "id": "84bfe2d2-12b3-436f-98aa-3d9dddfca38b",
   "metadata": {
    "scrolled": true
   },
   "outputs": [],
   "source": [
    "cc.pl.autok_stability(autok)"
   ]
  },
  {
   "cell_type": "code",
   "execution_count": null,
   "id": "47899e18-ce32-44b7-86e8-d94c7d038dea",
   "metadata": {},
   "outputs": [],
   "source": [
    "ST_sample.obs['cluster_cellcharter'] = autok.predict(ST_sample, use_rep='X_cellcharter')"
   ]
  },
  {
   "cell_type": "code",
   "execution_count": null,
   "id": "e7428a38-4ca1-4e8e-b6d1-e659f02fa498",
   "metadata": {
    "scrolled": true
   },
   "outputs": [],
   "source": [
    "ST_sample.obs.columns"
   ]
  },
  {
   "cell_type": "code",
   "execution_count": null,
   "id": "4b75d4fc-fb24-4ecb-a050-cd54104599e8",
   "metadata": {},
   "outputs": [],
   "source": [
    "ST_sample.obs['mouse'].unique()"
   ]
  },
  {
   "cell_type": "code",
   "execution_count": null,
   "id": "2ea6ee70-3691-4015-ad59-f4fa2208f9ff",
   "metadata": {},
   "outputs": [],
   "source": [
    "sq.pl.spatial_scatter(\n",
    "    ST_sample, \n",
    "    color=['cluster_cellcharter'], \n",
    "    library_key='library_id',  \n",
    "    size=0.5, \n",
    "    img=None,\n",
    "    spatial_key='spatial',\n",
    "    palette='Set2',\n",
    "    figsize=(5,5),\n",
    "    ncols=1,\n",
    "    library_id=['F07839'],\n",
    ")"
   ]
  },
  {
   "cell_type": "code",
   "execution_count": null,
   "id": "824eb8ef-33b2-4a26-89c2-0fd59daab41e",
   "metadata": {},
   "outputs": [],
   "source": [
    "sq.pl.spatial_scatter(\n",
    "    ST_sample, \n",
    "    color=['cluster_cellcharter'], \n",
    "    library_key='mouse',  \n",
    "    size=0.5, \n",
    "    img=None,\n",
    "    spatial_key='spatial',\n",
    "    palette='Set2',\n",
    "    figsize=(5,5),\n",
    "    ncols=1,\n",
    "    library_id=['CyPSCA_1_2'],\n",
    ")"
   ]
  },
  {
   "cell_type": "code",
   "execution_count": null,
   "id": "17086300-57eb-42ba-93b2-0d4110feff0a",
   "metadata": {},
   "outputs": [],
   "source": []
  }
 ],
 "metadata": {
  "kernelspec": {
   "display_name": "Python (Spatial Analysis Env)",
   "language": "python",
   "name": "spatial_analysis_env"
  },
  "language_info": {
   "codemirror_mode": {
    "name": "ipython",
    "version": 3
   },
   "file_extension": ".py",
   "mimetype": "text/x-python",
   "name": "python",
   "nbconvert_exporter": "python",
   "pygments_lexer": "ipython3",
   "version": "3.10.17"
  }
 },
 "nbformat": 4,
 "nbformat_minor": 5
}
