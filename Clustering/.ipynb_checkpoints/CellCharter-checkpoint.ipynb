{
 "cells": [
  {
   "cell_type": "code",
   "execution_count": 1,
   "id": "97b065fc-c999-4aad-92ec-7425790eb834",
   "metadata": {},
   "outputs": [
    {
     "name": "stderr",
     "output_type": "stream",
     "text": [
      "/Users/janzules/anaconda3/envs/spatial_analysis_env2/lib/python3.10/site-packages/dask/dataframe/__init__.py:31: FutureWarning: The legacy Dask DataFrame implementation is deprecated and will be removed in a future version. Set the configuration option `dataframe.query-planning` to `True` or None to enable the new Dask Dataframe implementation and silence this warning.\n",
      "  warnings.warn(\n",
      "/Users/janzules/anaconda3/envs/spatial_analysis_env2/lib/python3.10/site-packages/anndata/utils.py:434: FutureWarning: Importing read_text from `anndata` is deprecated. Import anndata.io.read_text instead.\n",
      "  warnings.warn(msg, FutureWarning)\n",
      "/Users/janzules/anaconda3/envs/spatial_analysis_env2/lib/python3.10/site-packages/tqdm/auto.py:21: TqdmWarning: IProgress not found. Please update jupyter and ipywidgets. See https://ipywidgets.readthedocs.io/en/stable/user_install.html\n",
      "  from .autonotebook import tqdm as notebook_tqdm\n",
      "Seed set to 12345\n",
      "Seed set to 12345\n"
     ]
    }
   ],
   "source": [
    "import anndata as ad\n",
    "import squidpy as sq\n",
    "import cellcharter as cc\n",
    "import pandas as pd\n",
    "import scanpy as sc\n",
    "import scvi\n",
    "import numpy as np\n",
    "import matplotlib.pyplot as plt\n",
    "from lightning.pytorch import seed_everything\n",
    "from pathlib import Path\n",
    "from skimage.io import imread\n",
    "\n",
    "seed_everything(12345)\n",
    "scvi.settings.seed = 12345"
   ]
  },
  {
   "cell_type": "markdown",
   "id": "528c3f98-afab-4c28-9755-5a37fe8920c5",
   "metadata": {},
   "source": [
    "# Preparing data"
   ]
  },
  {
   "cell_type": "code",
   "execution_count": 2,
   "id": "403fcc28-ca12-4bec-843d-d5c155f104b5",
   "metadata": {},
   "outputs": [],
   "source": [
    "# Preparing variables\n",
    "# fig_out = Path(\"/Users/janzules/Roselab/Spatial/CAR_T/figures/Moran_results/\")\n",
    "# sample = \"CyPSCA_1_2\"\n"
   ]
  },
  {
   "cell_type": "code",
   "execution_count": 3,
   "id": "f4e1b9a7-9307-4d24-b21d-a7e3fbf9cf9b",
   "metadata": {},
   "outputs": [],
   "source": [
    "segmentation_path = Path(\"/Users/janzules/Roselab/Spatial/CAR_T/data/cell_segmentation/\")\n",
    "adata_file     = segmentation_path / \"concatenated\" / \"combined_adata.h5ad\"\n",
    "geneList = segmentation_path / \"Gene_lists\"\n",
    "fig_out = Path(\"/Users/janzules/Roselab/Spatial/CAR_T/figures/clustering_results/\")\n",
    "ST_sample = sc.read_h5ad(adata_file)\n",
    "\n",
    "# ST_sample = ST_sample_org[ST_sample_org.obs['mouse'].isin([sample])].copy()\n",
    "# del ST_sample_org"
   ]
  },
  {
   "cell_type": "markdown",
   "id": "ac3ec873-e1f9-490f-b571-f28518d8edde",
   "metadata": {},
   "source": [
    "## Adding images"
   ]
  },
  {
   "cell_type": "code",
   "execution_count": 4,
   "id": "2c4f0e06-f47d-4c26-bf36-1ccc1796d5d1",
   "metadata": {},
   "outputs": [],
   "source": [
    "HNE_TIF_PATHS = {\n",
    "    \"F07839\": Path(\"/Users/janzules/Roselab/Spatial/dietary_project/data/images_for_alignments/121724-121924_RL_mRT_TMA4_1_TMA5_1/hne/121724_RL_mRT_TMA4_Slide_1.tif\"),\n",
    "    \"F07840\": Path(\"/Users/janzules/Roselab/Spatial/dietary_project/data/images_for_alignments/121724-121924_RL_mRT_TMA4_1_TMA5_1/hne/121724_RL_mRT_TMA5_Slide_1.tif\")\n",
    "}\n"
   ]
  },
  {
   "cell_type": "code",
   "execution_count": 5,
   "id": "ba249a6a-0b41-4570-8f33-368ba949dcfb",
   "metadata": {},
   "outputs": [],
   "source": [
    "ST_sample.obsm[\"spatial\"] = ST_sample.obs[[\"cx\", \"cy\"]].to_numpy()"
   ]
  },
  {
   "cell_type": "code",
   "execution_count": 6,
   "id": "97323ee8-8617-4162-b0c8-428ae86ebbbf",
   "metadata": {},
   "outputs": [],
   "source": [
    "# 1) Make sure your AnnData knows which “library” (TMA) each spot comes from.\n",
    "#    We’ll use your existing 'TMA' column as the library_key:\n",
    "ST_sample.obs['library_id'] = ST_sample.obs['TMA']\n",
    "\n",
    "# 2) Build the minimal `adata.uns['spatial']` structure Squidpy expects:\n",
    "#    For each TMA, point to your H&E image (as a numpy array) and set a scale factor.\n",
    "ST_sample.uns['spatial'] = {}\n",
    "for lib_id, tif_path in HNE_TIF_PATHS.items():\n",
    "    img = imread(tif_path)\n",
    "    ST_sample.uns['spatial'][lib_id] = {\n",
    "        \"images\": {\"hires\": img},\n",
    "        \"scalefactors\": {\n",
    "            \"tissue_hires_scalef\": 1.0,\n",
    "            \"spot_diameter_fullres\": 100.0,   # <- add this\n",
    "            \"tissue_lowres_scalef\": 1.0,      # <- add this (not always needed)\n",
    "        }\n",
    "    }"
   ]
  },
  {
   "cell_type": "code",
   "execution_count": 7,
   "id": "f5e1529b-1c49-476f-9f6f-e88a57e92500",
   "metadata": {},
   "outputs": [],
   "source": [
    "sc.pp.filter_genes(ST_sample, min_counts=3)\n",
    "sc.pp.filter_cells(ST_sample, min_counts=50)"
   ]
  },
  {
   "cell_type": "code",
   "execution_count": 8,
   "id": "dcf5e8c1-f924-493d-bf85-8c8cd5d3a246",
   "metadata": {},
   "outputs": [],
   "source": [
    "ST_sample.layers['counts'] = ST_sample.X.copy()"
   ]
  },
  {
   "cell_type": "code",
   "execution_count": 9,
   "id": "8dbe6818-1dbc-4392-bbc9-db1f0d1e915b",
   "metadata": {},
   "outputs": [],
   "source": [
    "sc.pp.normalize_total(ST_sample, target_sum=1e6)\n",
    "sc.pp.log1p(ST_sample)"
   ]
  },
  {
   "cell_type": "markdown",
   "id": "ce774b1a-9b5c-47ab-ae06-af7eba3cc7d8",
   "metadata": {},
   "source": [
    "# Dimensionality Reduction"
   ]
  },
  {
   "cell_type": "code",
   "execution_count": 10,
   "id": "c399edcd-88e4-4bbf-96a8-d92f1f2b79ea",
   "metadata": {},
   "outputs": [],
   "source": [
    "scvi.model.SCVI.setup_anndata(\n",
    "    ST_sample,\n",
    "    layer=\"counts\",\n",
    "    batch_key=\"condition\"\n",
    ")\n",
    "\n",
    "model = scvi.model.SCVI(ST_sample)"
   ]
  },
  {
   "cell_type": "code",
   "execution_count": null,
   "id": "03fd1e64-3c40-4049-8551-94ed1e7d10cc",
   "metadata": {
    "scrolled": true
   },
   "outputs": [
    {
     "name": "stderr",
     "output_type": "stream",
     "text": [
      "/Users/janzules/anaconda3/envs/spatial_analysis_env2/lib/python3.10/site-packages/scvi/train/_trainrunner.py:69: UserWarning: `accelerator` has been set to `mps`. Please note that not all PyTorch/Jax operations are supported with this backend. as a result, some models might be slower and less accurate than usuall. Please verify your analysis!Refer to https://github.com/pytorch/pytorch/issues/77764 for more details.\n",
      "  accelerator, lightning_devices, device = parse_device_args(\n",
      "GPU available: True (mps), used: True\n",
      "TPU available: False, using: 0 TPU cores\n",
      "HPU available: False, using: 0 HPUs\n"
     ]
    },
    {
     "name": "stdout",
     "output_type": "stream",
     "text": [
      "Epoch 21/47:  43%|▍| 20/47 [10:32<14:12, 31.58s/it, v_num=1, train_loss_step=1.0"
     ]
    }
   ],
   "source": [
    "model.train(early_stopping=True, enable_progress_bar=True, accelerator=\"mps\")"
   ]
  },
  {
   "cell_type": "code",
   "execution_count": null,
   "id": "d25870d6-4369-4084-a4a7-85f45a4fbaee",
   "metadata": {},
   "outputs": [],
   "source": [
    "ST_sample.obsm['X_scVI'] = model.get_latent_representation(ST_sample).astype(np.float32)"
   ]
  },
  {
   "cell_type": "code",
   "execution_count": null,
   "id": "16ccdc33-678d-42a6-88b6-146cafebf3fb",
   "metadata": {},
   "outputs": [],
   "source": [
    "sq.gr.spatial_neighbors(ST_sample, library_key='condition', coord_type='generic', delaunay=True)"
   ]
  },
  {
   "cell_type": "markdown",
   "id": "a20fa0d9-a064-4c3c-8144-34eed7d0afe6",
   "metadata": {},
   "source": [
    "# CellCharter's spatial clustering"
   ]
  },
  {
   "cell_type": "code",
   "execution_count": null,
   "id": "7f4bc2be-27d7-4054-803c-00a50e8203c1",
   "metadata": {},
   "outputs": [],
   "source": [
    "# grabbing coords for CyPSCA_1_2\n",
    "\n",
    "# Adjust this column name if needed\n",
    "subset = ST_sample[ST_sample.obs['mouse'] == 'CyPSCA_1_2']\n",
    "\n",
    "# Extract (cx, cy) coordinates\n",
    "coords = subset.obsm['spatial']\n",
    "\n",
    "# Compute bounding box\n",
    "xmin = np.min(coords[:, 0])\n",
    "xmax = np.max(coords[:, 0])\n",
    "ymin = np.min(coords[:, 1])\n",
    "ymax = np.max(coords[:, 1])\n",
    "\n",
    "print(f\"xmin: {xmin}, xmax: {xmax}\")\n",
    "print(f\"ymin: {ymin}, ymax: {ymax}\")\n"
   ]
  },
  {
   "cell_type": "code",
   "execution_count": null,
   "id": "03b3162f-fe50-4f86-beef-c8aba68ab8c9",
   "metadata": {},
   "outputs": [],
   "source": [
    "# 1. Subset AnnData for the target mouse/condition\n",
    "subset = ST_sample[ST_sample.obs['mouse'] == 'CyPSCA_1_2']\n",
    "\n",
    "# 2. Extract spatial coordinates\n",
    "coords = subset.obsm['spatial']\n",
    "xmin, xmax = coords[:, 0].min(), coords[:, 0].max()\n",
    "ymin, ymax = coords[:, 1].min(), coords[:, 1].max()\n",
    "\n",
    "# Optional: Add margin (e.g., 100 pixels on each side)\n",
    "margin = 100\n",
    "crop_coord = (\n",
    "    int(xmin - margin),\n",
    "    int(ymin - margin),\n",
    "    int(xmax + margin),\n",
    "    int(ymax + margin)\n",
    ")\n",
    "\n",
    "print(\"Crop coordinates:\", crop_coord)\n"
   ]
  },
  {
   "cell_type": "code",
   "execution_count": null,
   "id": "2cd5a127-b1d8-4ed0-bc7a-cd6c04a0d14e",
   "metadata": {},
   "outputs": [],
   "source": [
    "# Get the unique TMA(s) that contain this mouse\n",
    "ST_sample.obs.loc[ST_sample.obs['mouse'] == 'CyPSCA_1_2', 'TMA'].unique()"
   ]
  },
  {
   "cell_type": "code",
   "execution_count": null,
   "id": "d03b8816-1b84-46d1-ae1b-76873e7a4972",
   "metadata": {},
   "outputs": [],
   "source": []
  },
  {
   "cell_type": "code",
   "execution_count": null,
   "id": "cd65d31e-efc7-4cec-8e0b-4ddaa47a1dc9",
   "metadata": {},
   "outputs": [],
   "source": [
    "sq.pl.spatial_scatter(\n",
    "    ST_sample,\n",
    "    shape=None,\n",
    "    spatial_key='spatial',\n",
    "    library_key='library_id',\n",
    "    library_id=['F07840'],         # or whichever TMA sample contains CyPSCA_1_2\n",
    "    crop_coord=crop_coord,\n",
    "    img=True,\n",
    "    img_alpha=1,\n",
    "    color='condition',\n",
    "    connectivity_key='spatial_connectivities',\n",
    "    size=0.01,\n",
    "    edges_width=0.3,\n",
    "    legend_loc='right',\n",
    "    title=['CyPSCA_1_2']\n",
    ")\n"
   ]
  },
  {
   "cell_type": "code",
   "execution_count": null,
   "id": "b44fdd8e-bb50-4a05-b422-1dc19e8d238b",
   "metadata": {},
   "outputs": [],
   "source": [
    "cc.gr.remove_long_links(ST_sample)"
   ]
  },
  {
   "cell_type": "code",
   "execution_count": null,
   "id": "0802c83a-2755-4636-a052-5efdffdb0a37",
   "metadata": {},
   "outputs": [],
   "source": [
    "sq.pl.spatial_scatter(\n",
    "    ST_sample,\n",
    "    shape=None,\n",
    "    spatial_key='spatial',\n",
    "    library_key='library_id',\n",
    "    library_id=['F07840'],         # or whichever TMA sample contains CyPSCA_1_2\n",
    "    crop_coord=crop_coord,\n",
    "    img=True,\n",
    "    img_alpha=1,\n",
    "    color='condition',\n",
    "    connectivity_key='spatial_connectivities',\n",
    "    size=0.01,\n",
    "    edges_width=0.3,\n",
    "    legend_loc='right',\n",
    "    title=['CyPSCA_1_2']\n",
    ")\n"
   ]
  },
  {
   "cell_type": "code",
   "execution_count": null,
   "id": "8519be8f-dc9d-4359-83e9-d4261bca598e",
   "metadata": {},
   "outputs": [],
   "source": []
  },
  {
   "cell_type": "markdown",
   "id": "b3e48e39-31f4-4272-9848-6b442ecf0a79",
   "metadata": {},
   "source": [
    "# Clustering"
   ]
  },
  {
   "cell_type": "code",
   "execution_count": null,
   "id": "8d95af08-806c-42ed-a7e7-bac3a5d6ecd1",
   "metadata": {},
   "outputs": [],
   "source": []
  },
  {
   "cell_type": "code",
   "execution_count": null,
   "id": "2a0e4e97-9467-4f4e-81fc-b230d71ae692",
   "metadata": {
    "scrolled": true
   },
   "outputs": [],
   "source": [
    "sq.gr.spatial_neighbors(ST_sample, library_key='library_id', coord_type='generic', delaunay=True, spatial_key='spatial', percentile=99)"
   ]
  },
  {
   "cell_type": "code",
   "execution_count": null,
   "id": "f78fd13b-6f6b-4002-b7cb-e8be2d8f67e7",
   "metadata": {},
   "outputs": [],
   "source": [
    "cc.gr.aggregate_neighbors(ST_sample, n_layers=3, use_rep='X_scVI', out_key='X_cellcharter', sample_key='sample')"
   ]
  },
  {
   "cell_type": "code",
   "execution_count": null,
   "id": "8cf17d0f-f900-4043-a9af-1c2552a4b501",
   "metadata": {},
   "outputs": [],
   "source": [
    "autok = cc.tl.ClusterAutoK(\n",
    "    n_clusters=(2,10), \n",
    "    max_runs=10,\n",
    "    convergence_tol=0.001\n",
    ")"
   ]
  },
  {
   "cell_type": "code",
   "execution_count": null,
   "id": "10cddc6f-7680-4ac9-a1f6-0bed19cb5a31",
   "metadata": {},
   "outputs": [],
   "source": [
    "autok.fit(ST_sample, use_rep='X_cellcharter')"
   ]
  },
  {
   "cell_type": "code",
   "execution_count": null,
   "id": "84bfe2d2-12b3-436f-98aa-3d9dddfca38b",
   "metadata": {},
   "outputs": [],
   "source": []
  },
  {
   "cell_type": "code",
   "execution_count": null,
   "id": "2ea6ee70-3691-4015-ad59-f4fa2208f9ff",
   "metadata": {},
   "outputs": [],
   "source": []
  }
 ],
 "metadata": {
  "kernelspec": {
   "display_name": "Cell Charter",
   "language": "python",
   "name": "spatial_analysis_env2"
  },
  "language_info": {
   "codemirror_mode": {
    "name": "ipython",
    "version": 3
   },
   "file_extension": ".py",
   "mimetype": "text/x-python",
   "name": "python",
   "nbconvert_exporter": "python",
   "pygments_lexer": "ipython3",
   "version": "3.10.16"
  }
 },
 "nbformat": 4,
 "nbformat_minor": 5
}
