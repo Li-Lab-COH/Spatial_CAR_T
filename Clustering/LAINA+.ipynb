{
 "cells": [
  {
   "cell_type": "code",
   "execution_count": null,
   "id": "07035ca4-56f0-425b-900e-429985d1f058",
   "metadata": {},
   "outputs": [],
   "source": [
    "import anndata as ad\n",
    "import squidpy as sp\n",
    "import cellcharter as cc #ML\n",
    "import pandas as pd\n",
    "import scanpy as sc\n",
    "import liana as li\n",
    "import seaborn as sns\n",
    "import matplotlib.pyplot as plt\n",
    "from pathlib import Path\n",
    "import os\n",
    "from pypath import omnipath\n",
    "\n",
    "from pytorch_lightning import seed_everything\n",
    "seed_everything(1337)"
   ]
  },
  {
   "cell_type": "code",
   "execution_count": 8,
   "id": "f16f573c-aa6c-49dd-9431-eac05e6e582d",
   "metadata": {},
   "outputs": [],
   "source": [
    "# Info\n",
    "whatFer = \"one\" # \"one\" or  \"two\"\n",
    "\n",
    "#Load data\n",
    "base_folder = Path(f\"/mnt/c/Users/jonan/Documents/1Work/RoseLab/Spatial/CAR_T/CellCharterAnalysis/{whatFer}fer/\")\n",
    "adata_file = base_folder / f\"{whatFer}fer.h5ad\"\n",
    "out_figs = base_folder / \"figures\" / \"CCC\"\n",
    "os.makedirs(out_figs, exist_ok=True)\n",
    "\n",
    "ST_sample = sc.read_h5ad(adata_file)\n"
   ]
  }
 ],
 "metadata": {
  "kernelspec": {
   "display_name": "Python (Spatial Analysis Env)",
   "language": "python",
   "name": "spatial_analysis_env"
  },
  "language_info": {
   "codemirror_mode": {
    "name": "ipython",
    "version": 3
   },
   "file_extension": ".py",
   "mimetype": "text/x-python",
   "name": "python",
   "nbconvert_exporter": "python",
   "pygments_lexer": "ipython3",
   "version": "3.10.17"
  }
 },
 "nbformat": 4,
 "nbformat_minor": 5
}
