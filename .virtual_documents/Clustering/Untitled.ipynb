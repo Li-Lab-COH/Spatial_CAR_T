import anndata as ad
import squidpy as sq
import cellcharter as cc
import pandas as pd
import scanpy as sc
import scvi
import numpy as np
import matplotlib.pyplot as plt
from lightning.pytorch import seed_everything
from pathlib import Path
from skimage.io import imread

import torch
torch.set_float32_matmul_precision("high")
  
seed_everything(1337)
scvi.settings.seed = 1337


# Info
whatFer = "two"# which Layered analysis?

#Load data
adata_file = Path(f"/mnt/c/Users/jonan/Documents/1Work/RoseLab/Spatial/CAR_T/CellCharterAnalysis/twofer/{whatFer}fer.h5ad")
ST_sample = sc.read_h5ad(adata_file)


import pandas as pd
import matplotlib.pyplot as plt

# Count cells per (mouse, cluster)
#    Use 'mouse' if you want each biological sample separately.
df_counts = (
    ST_sample.obs
    .groupby(["mouse", "cluster_cellcharter"])
    .size()
    .reset_index(name="n_cells")
)

# Pivot so that rows = mouse, columns = cluster, values = n_cells
df_pivot = df_counts.pivot(index="mouse",
                            columns="cluster_cellcharter",
                            values="n_cells").fillna(0)

# Convert counts → fractions (sum over clusters per mouse)
df_frac = df_pivot.divide(df_pivot.sum(axis=1), axis=0)

# Plot as a stacked bar chart
fig, ax = plt.subplots(figsize=(8, 5))
df_frac.plot(kind="bar", stacked=True, ax=ax, colormap="tab20")
ax.set_ylabel("Fraction of cells")
ax.set_xlabel("Mouse (sample)")
ax.set_title("Cluster composition per mouse")
ax.legend(title="Cluster", bbox_to_anchor=(1.02, 1), loc="upper left")
plt.tight_layout()
plt.show()






ST_sample.obsp


cc.gr.nhood_enrichment(
    ST_sample,
    cluster_key="cluster_cellcharter",
    connectivity_key="spatial", #Why does it add _connectivities?!?! weird.
    symmetric=False,         # asymmetric by default (enrichment i→j ≠ j→i)
    only_inter=True,         # count only links between different clusters
    pvalues=True,           # no permutations/p-values (fast, analytical)
    observed_expected=False, # only keep final enrichment, not the raw observed/expected
    copy=False               # write results into ST_sample.uns under "cluster_cellcharter_nhood_enrichment"
)


ST_sample.obs['condition'].unique()


ST_sample.uns


cc.pl.nhood_enrichment(
    ST_sample,
    cluster_key="cluster_cellcharter",
    title="Neighborhood Enrichment, All Samples"
)


for condition in ["RTCyT72", "RTCyPSCA", "CyPSCA", "CyT72"]:
    cc.pl.diff_nhood_enrichment(
        ST_sample,
        cluster_key="cluster_cellcharter",
        condition_key="condition",
        condition_groups=[condition, "NoTx"],
        title=f"{condition} vs NoTx",
        ncols=1,
    )

