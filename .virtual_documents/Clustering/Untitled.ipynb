import numpy as np
import pandas as pd
import matplotlib.pyplot as plt
from pathlib import Path
import scanpy as sc
import squidpy as sq
from pathlib import Path
import geopandas as gpd





# Preparing variables
fig_out = Path("/Users/janzules/Roselab/Spatial/CAR_T/figures/Moran_results/")
sample = "CyPSCA_1_2"



segmentation_path = Path("/Users/janzules/Roselab/Spatial/CAR_T/data/cell_segmentation/")
adata_file     = segmentation_path / "concatenated" / "combined_adata.h5ad"
geneList = segmentation_path / "Gene_lists"
fig_out = Path("/Users/janzules/Roselab/Spatial/CAR_T/figures/clustering_results/")
ST_sample_org = sc.read_h5ad(adata_file)

ST_sample = ST_sample_org[ST_sample_org.obs['mouse'].isin([sample])].copy()
del ST_sample_org


gdf_file = segmentation_path /  "concatenated" / "combined_nuclei_geometry.gpkg"
geo_file = gpd.read_file(gdf_file)


gdf = geo.merge(ST_sample.obs[['id', 'n_counts']], on='id', how='inner')


# move cx, cy from obs to obsm["spatial"]
ST_sample.obsm["spatial"] = ST_sample.obs[["cx", "cy"]].to_numpy()



sq.gr.spatial_neighbors(
    ST_sample,
    coord_type="generic",        # using your cx/cy coords
    n_neighs=6                  # ≈ 6 nearest neighbors in space
)



sq.gr.spatial_autocorr(
    ST_sample,
    mode="moran",                # Moran’s I
    n_perms=500,                 # number of permutations
    genes=ST_sample.var_names,   # you can pre‐filter HVGs here
)



moran["I"].describe()


# Directly extract the moranI DataFrame
moran = ST_sample.uns["moranI"]

# Use one of the corrected FDR-adjusted columns
# e.g. pval_sim_fdr_bh is adjusted p-value for permutation test
top20 = moran.sort_values(["I", "pval_sim_fdr_bh"], ascending=[False, True]).head(40)
print(top20)



for gene in top20.index:
    sc.pl.spatial(
        ST_sample,
        color=gene,
        coord_key=["cx", "cy"],
        cmap="viridis",
        size=5,
        show=False
    )
    plt.title(f"{gene} (Moran’s I = {moran.loc[gene,'I']:.2f})")
    plt.tight_layout()
    plt.show()


ST_sample.obsm['spatial']


# quick dual-gradient plot: ISG score vs COL1A1
ST_sample.obs["isg_score"] = ST_sample[:, ["Gbp2","Irgm1","Isg15","Ifit3","Rsad2"]].X.mean(1)

# Case A: Col1a1 is in .X (default)
ST_sample.obs["Col1a1"] = ST_sample[:, "Col1a1"].X.toarray().flatten()

# Case B: if you were using .raw and normalized counts were stored there
# ST_sample.obs["Col1a1"] = ST_sample.raw[:, "Col1a1"].X.toarray().flatten()



# 1. Restrict to current sample’s nuclei
gdf = geo_file.merge(
    ST_sample.obs[["id", "isg_score", "Col1a1"]],
    on="id",
    how="inner"
)

# 2. Plot both modules using polygons
fig, axs = plt.subplots(1, 2, figsize=(12, 6))

gdf.plot("isg_score", ax=axs[0], cmap="viridis", legend=True)
axs[0].set_title("ISG Score")
axs[0].axis("off")

gdf.plot("Col1a1", ax=axs[1], cmap="viridis", legend=True)
axs[1].set_title("Col1a1 Expression")
axs[1].axis("off")

plt.tight_layout()
plt.show()



