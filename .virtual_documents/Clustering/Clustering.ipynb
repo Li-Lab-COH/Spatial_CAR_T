import numpy as np
import pandas as pd
from scipy.sparse import issparse
from pathlib import Path
import scanpy as sc
import geopandas as gpd
from sklearn_ann.kneighbors.annoy import AnnoyTransformer
# to install %pip install -q "scanpy" "sklearn-ann[annoy]"
import matplotlib.pyplot as plt
import scanpy.external as sce
import random
import matplotlib.colors as mcolors
import pandas as pd
import seaborn as sns





# set global seed
SEED = 1337
random.seed(SEED)


segmentation_path = Path("/Users/janzules/Roselab/Spatial/CAR_T/data/cell_segmentation/")
adata_file     = segmentation_path / "concatenated" / "combined_adata.h5ad"
geneList = segmentation_path / "Gene_lists"
fig_out = Path("/Users/janzules/Roselab/Spatial/CAR_T/figures/clustering_results/")
ST_sample_org = sc.read_h5ad(adata_file)








# parameter choices
min_UMI = 200
n_cells = 40000 # Random choice
HVG_num = 600 #default 2k


# Cleaning
# Identify mitochondrial genes (prefix 'MT-' for human)
ST_sample_org.var['mito'] = ST_sample_org.var_names.str.startswith('mt-')

#  Run QC metrics
sc.pp.calculate_qc_metrics(
    ST_sample_org, 
    qc_vars=['mito'], 
    inplace=True, 
    log1p=False
)


sc.pp.filter_genes(ST_sample_org, min_cells=10)
# sc.pp.filter_cells(ST_sample_org, min_genes = 100)
ST_sample_org = ST_sample_org[
    (ST_sample_org.obs['total_counts'] >= min_UMI) &
    (ST_sample_org.obs['pct_counts_mito'] <= 15)
].copy()


ST_sample_org.shape





ST_sample_org.obs['mouse'].unique()


ST_subset = ST_sample_org[ST_sample_org.obs['mouse'].isin(['CyPSCA_1_2'])].copy()

if ST_subset.n_obs > n_cells: # Replace with subset name if you plan on subsetting
    selected_indices = np.random.choice(ST_subset.n_obs, n_cells, replace=False)
    ST_sample = ST_subset[selected_indices, :].copy()
else:
    ST_sample = ST_subset.copy()
    del ST_sample_org


ST_sample.obs['mouse'].unique()


ST_sample.shape



# if ST_sample_org.n_obs > n_cells: # Replace with subset name if you plan on subsetting
#     selected_indices = np.random.choice(ST_sample_org.n_obs, n_cells, replace=False)
#     ST_sample = ST_sample_org[selected_indices, :].copy()

# # ST_sample.obs['id']


ST_sample.obs['sample_id'].unique()








# Saving count data
ST_sample.layers["counts"] = ST_sample.X.copy()


#Cell-cycle scoring
with open(f"{geneList}/cc_mouse_cycle_genes.json") as jf:
    cc = json.load(jf)
s_genes_mouse   = cc["s_genes"]
g2m_genes_mouse = cc["g2m_genes"]


sc.tl.score_genes_cell_cycle(
    ST_sample,
    s_genes   = s_genes_mouse,
    g2m_genes = g2m_genes_mouse,
    use_raw   = False
)


# ───────────────────────────────────────────────────────────────────────────────
# Mouse immune-cell marker panel for spatial transcriptomics
# (focus on prostate-tumour micro-environment: T/NK/B cells, macrophage
#  polarization, neutrophils / MDSCs, dendritic-cell subsets, mast cells,
#  innate-like lymphocytes, cytotoxic / checkpoint / chemokine axes)
# ───────────────────────────────────────────────────────────────────────────────

immune_genes = [

    # -------------------------------------------------------------------------
    # General pan-leukocyte
    "Ptprc",      # CD45
    "Itgb2", "Itgax", "Itgam",  # β2 integrins (CD18, CD11c, CD11b)

    # -------------------------------------------------------------------------
    # Conventional αβ T cells
    "Cd3d", "Cd3e", "Cd3g", "Cd247",             # TCR complex
    "Trac", "Trbc1", "Trbc2",                    # TCR chains
    "Cd4",                                       # CD4 Th
    "Cd8a", "Cd8b1",                             # CD8 CTL
    "Foxp3", "Il2ra",                            # Treg
    "Pdcd1", "Ctla4", "Lag3", "Havcr2", "Tigit", # exhaustion / checkpoint
    "Tcf7", "Sell",                              # naïve / stem-like
    "Ifng", "Gzmb", "Prf1", "Gzma", "Gzmk",      # effector molecules

    # γδ T cells & innate-like T
    "Trdc", "Trdv2", "Trgv4",                    # γδ chains
    "Cd69", "Il17a", "Rorc",                     # IL-17-producing γδ subset

    # -------------------------------------------------------------------------
    # Natural-killer cells
    "Ncr1", "Nkg7", "Klrb1c",              # NKp46, NKG7, NK1.1
    "Klrc1", "Klrc2", "Klrd1",            # NKG2 family
    "Eomes", "Tbx21",                     # transcription factors
    "Cxcr6",                              # tissue-resident NK / ILC1

    # Natural-killer T (NKT) / MAIT
    "Trav11", "Traj18", "Zbtb16",         # type-I NKT TCRα (Vα14-Jα18), PLZF
    "Mr1",                                # MAIT-restricting molecule
    "Trav1", "Traj33",                    # MAIT TCRα Vα19-Jα33

    # -------------------------------------------------------------------------
    # B-cell & plasma-cell
    "Cd19", "Cd79a", "Cd79b", "Ms4a1",          # pan-B (CD19, BCR, CD20)
    "Cd74", "H2-Ab1", "H2-Eb1",                 # MHC-II
    "Mzb1", "Ighm", "Ighd", "Jchain",           # plasma-cell differentiation
    "Prdm1", "Xbp1",                            # Blimp1, XBP1 – plasmablast

    # -------------------------------------------------------------------------
    # Monocytes / macrophages
    # Core markers
    "Adgre1",   # F4/80
    "Csf1r",    # colony-stim. factor receptor
    "Aif1",     # Iba1
    # Polarisation / TAM flavour
    "Nos2", "Il1b", "Tnf", "Cxcl9",             # classically activated (M1-like)
    "Mrc1", "Arg1", "Chil3", "Retnla", "Il10",  # alternative (M2 / immunosuppressive)
    # Phagocytosis & antigen presentation
    "Fcgr1", "Fcgr3", "Cd68", "Lgals3",
    # Chemokine cues
    "Ccl2", "Ccl7", "Ccl8", "Ccl12",

    # -------------------------------------------------------------------------
    # Neutrophils / granulocytic-MDSCs
    "Ly6g", "Ly6c2", "S100a8", "S100a9", "Camp",
    "Mpo", "Elane", "Ltf", "Ngp", "Clec4d", "Clec4e",
    "Cxcr2", "Cxcr4",

    # -------------------------------------------------------------------------
    # Dendritic-cell landscape
    # cDC1 (cross-presenting, anti-tumour)
    "Xcr1", "Clec9a", "Batf3", "Irf8",
    # cDC2 (antigen presentation to CD4, IL-12)
    "Cd209a", "Sirpa", "Irf4", "Tmem176b",
    # pDC
    "Siglech", "Bst2", "Irf7", "Tcf4",
    # Langerhans / migratory DC
    "Langerin", "Mfge8",
    # Monocyte-derived DC / inflammatory DC
    "Ly6c1", "Ccr2", "Tnf",
    # Activation / costimulation
    "Cd86", "Cd40", "Il12b",

    # -------------------------------------------------------------------------
    # Mast cells / basophils / eosinophils
    "Kit", "Fcer1a", "Cpa3", "Mcpt1", "Mcpt4",  # mast
    "Prss34", "Alox15",                         # basophil / eosinophil
    "Siglecf", "Ear2", "Il5ra",                 # eosinophil

    # -------------------------------------------------------------------------
    # Innate lymphoid cells (ILC)
    "Rorc", "Il22", "Areg",       # ILC3
    "Gata3", "Il5", "Il13",       # ILC2
    "Tbx21", "Ifng",              # ILC1

    # -------------------------------------------------------------------------
    # Chemokine & cytokine axes (help disentangle niches)
    "Ccl5", "Cxcl10", "Cxcl13", "Ccl17", "Ccl22",
    "Il7", "Il15", "Il12a", "Il12b", "Tgfb1",

    # -------------------------------------------------------------------------
    # Immune checkpoints & costim beyond PD-1 / CTLA-4
    "Cd274",  # PD-L1
    "Pdcd1lg2",  # PD-L2
    "Cd80", "Cd86",
    "Tnfrsf9",   # 4-1BB
    "Icos",      # ICOS
    "Cd27", "Cd70",
    "Tnfrsf4",   # OX40
    "Tnfsf4",    # OX40L
    "Entpd1",    # CD39 (adenosine axis)
    "Nt5e",      # CD73
]

# Remove any genes absent from your data to avoid warnings
immune_genes_present = [g for g in immune_genes if g in ST_sample.var_names]

print(f"{len(immune_genes_present)} / {len(immune_genes)} genes found in dataset.")



# core_immune_genes = ["Ptprc", "Cd3e", "Cd4" "Cd79a", "Itgam", "Ly6g", "Ncr1", "Arg1", "H2-Abl", "Adgre1", "Mrcl", "Nos2", "csflr"]

core_immune_genes = [g for g in immune_genes_present if g in ST_sample.var_names]
sc.tl.score_genes(
    ST_sample,
    gene_list=core_immune_genes,
    score_name="Immune_score",
    ctrl_size=len(core_immune_genes)
)


# print(ST_sample.obs.index[:5])
# print(ST_sample.var.index[:5])


# Limiting noise

# Boolean mask: gene expressed (>0) in ≥ 2 % of cells
expr_pct = (ST_sample.X > 0).mean(axis=0).A1          # proportion per gene
expr_mask = expr_pct >= 0.02                          # 0.02 = 2 %

# Keep only immune genes passing the filter
immune_genes_detected = [
    g for g in immune_genes_present
    if expr_mask[ST_sample.var_names.get_loc(g)]
]

print(f"{len(immune_genes_detected)} immune genes detected in ≥2 % cells")

# HVG selection
sc.pp.highly_variable_genes(
    ST_sample,
    n_top_genes=HVG_num,
    flavor="seurat_v3"
)

# Force only the filtered immune genes
immune_mask = ST_sample.var_names.isin(immune_genes_detected)
ST_sample.var.loc[immune_mask, "highly_variable"] = True



ST_sample.shape


# # HVG selection
# sc.pp.highly_variable_genes(
#     ST_sample,
#     n_top_genes= HVG_num, #default 2k
#     flavor="seurat_v3",
#     # batch_key="TMA"
# )

# ST_sample.var['highly_variable'] |= ST_sample.var_names.isin(immune_genes_present)
# ST_sample = ST_sample[:, ST_sample.var['highly_variable']].copy()
# # ST_sample = ST_sample[:, ST_sample.var['highly_variable']].copy()


# immune_genes_in_HVG = [g for g in immune_genes_present if g in ST_sample.var_names]
# print(f"{len(immune_genes_in_HVG)} immune genes retained in HVG subset.")





# # Identify cells with total counts > 0 after HVG filtering
# nonzero_cells = np.array(ST_sample.X.sum(axis=1)).flatten() > 0

# # Subset to only nonzero cells
# ST_sample = ST_sample[nonzero_cells, :].copy()


ST_sample.shape





# normalize + log1p
sc.pp.normalize_total(ST_sample)
sc.pp.log1p(ST_sample)


# # 1. Create a numeric code for each sample
# ST_sample.obs['sample_code'] = ST_sample.obs['sample_id'].cat.codes

# # 2. Check the mapping
# print(ST_sample.obs[['sample_id','sample_code']].drop_duplicates().sort_values('sample_code'))






# ST_sample = Orgdata


sc.pp.regress_out(
    ST_sample,
    keys=['total_counts', 'pct_counts_mito', 'S_score', 'G2M_score']
)

# sc.pp.regress_out(
#     ST_sample,
#     keys=['total_counts', 'pct_counts_mito', "PTENSKO_score",  "MycCAP_score"]
# )

# sc.pp.regress_out(
#     ST_sample,
#     keys=['total_counts', 'pct_counts_mito', "PTENSKO_score",  "MycCAP_score", "Immune_score",
#          'S_score', 'G2M_score']
# )

# sc.pp.regress_out(
#     ST_sample,
#     keys=['total_counts', 'pct_counts_mito', "Immune_score",
#          'S_score', 'G2M_score']
# )
# sc.pp.regress_out(
#     ST_sample,
#     keys=['total_counts', 'pct_counts_mito', "Immune_score",
#          'S_score', 'G2M_score', "PTENSKO_score"]
# )

# sc.pp.regress_out(
#     ST_sample,
#     keys=['total_counts', 'pct_counts_mito',
#          'S_score', 'G2M_score', "PTENSKO_score"]
# )
# sc.pp.regress_out(
#     ST_sample,
#     keys=['total_counts', 'pct_counts_mito', "Immune_score",
#          'S_score', 'G2M_score', "MycCAP_score"]
# )
# sc.pp.regress_out(
#     ST_sample,
#     keys=['total_counts', 'pct_counts_mito', "PTENSKO_score",  "MycCAP_score", "Immune_score" ]
# )

# sc.pp.regress_out(
#     ST_sample,
    # keys=['total_counts', 'pct_counts_mito']



# sc.pp.regress_out(
#     ST_sample,
#     keys=['total_counts', 'pct_counts_mito']
# )


 # Scale so each gene has unit variance
# sc.pp.scale(ST_sample, max_value=10)


# PCA with randomized SVD
# n_pcs = 50
sc.tl.pca(ST_sample, n_comps=50, svd_solver="randomized")


sc.pl.pca_variance_ratio(ST_sample, n_pcs=50, log=True)





pc_choice = 8
neighbor_numbers = 30
resl = 0.3


sc.pl.pca(
    ST_sample,
    color=["pct_counts_mito", "pct_counts_mito"],
    dimensions=[(0, 1), (2, 3)],
    ncols=2,
    size=2,
)


# First the categorical panels (no sorting needed)
sc.pl.pca(
    ST_sample,
    color=["mouse", "sample_id"],
    dimensions=[(0, 1), (2, 3)],
    ncols=2,
    size=2,
    sort_order=False,      # categorical won’t sort anyway
)


# # Integration

# sce.pp.harmony_integrate(
#     ST_sample,
#     key='sample_id',
#     basis='X_pca',
#     adjusted_basis='X_pca_harmony'
# )

# sc.pp.neighbors(
#     ST_sample,
#     n_neighbors=30,
#     n_pcs=pc_choice,
#     use_rep='X_pca_harmony',
#     transformer=AnnoyTransformer(n_trees=100),
#     method="umap",
#     knn=True
# )


# Memory efficient
sc.pp.neighbors(
    ST_sample,
    n_neighbors= neighbor_numbers,
    n_pcs=pc_choice,
    transformer=AnnoyTransformer(n_trees=100),
    method="umap",
    knn=True
)





resl = 0.4
sc.tl.leiden(
    ST_sample,
    resolution=resl,
    flavor="igraph",
    directed=False,    # Undirected - forces a two way link
    random_state=1337
)


sc.tl.umap(
    ST_sample,
    init_pos='random',  # instead of 'spectral'
)





sc.pl.umap(
    ST_sample,
    color='leiden',    # color by your leiden clusters
    palette='tab20',   # nice large color palette
    size=5,            # small dots for large datasets (~1M cells)
    frameon=False,
    title=f'Leiden Clustering {resl}'
)


# sc.pl.umap(
#     ST_sample,
#     color='leiden',
#     groups=['1','10'],      # only these labels will be colored
#     palette=['purple','green'],  # match the order of your groups
#     size=20,
#     frameon=False,
#     title='Highlight Clusters'
# )


sc.pl.umap(
    ST_sample,
    color=['sample_id', 'condition'],
    ncols=3,            # one panel per key
    size=5,             # adjust dot size for visibility
    frameon=False,
    title=[f'Sample ID - {resl}', f'Condition - {resl}']
)



ST_sample.obs['sample_id'].unique()


sc.pl.umap(
    ST_sample,
    color=['mouse'],
    ncols=3,            # one panel per key
    size=5,             # adjust dot size for visibility
    frameon=False,
    title=['Mouse']
)



ST_sample.obs['total_counts'].describe()


fig = sc.pl.umap(
    ST_sample,
    color='total_counts',
    cmap='magma',
    vmin=min_UMI, vmax=800,
    size=20,
    frameon=False,
    title='UMAP colored by total UMI',
    show=False,
    return_fig=True
)



# UMAP overlay - Immune Score
sc.pl.umap(
    ST_sample,
    color="Immune_score",
    size=5,
    # vmin = 0.4,
    frameon=False,
    cmap="viridis",
    title="Immune module score"
)




# sc.pl.umap(
#     ST_sample,
#     color="Immune_score",
#     size=5,
#     frameon=False,
#     cmap="viridis",
#     title="Immune module score",
#     show=False  # Important: do not display immediately
# )

# # Save the current figure at 600 dpi
# fig_out = Path("/Users/janzules/Roselab/Spatial/dietary_project/figures/cell_segmentation_result_analysis/Improving_clustering/regress_test")
# fig_out.mkdir(parents=True, exist_ok=True)  # Ensure the directory exists

# plt.gcf().savefig(fig_out / "immune_module_score_umap.png", dpi=600, bbox_inches='tight')
# plt.close()


# Picked markers in the order you’d like them to appear left→right, top→bottom
genes_plot = [
    "Cd3e", "Cd4", "Cd8a", "Foxp3", "Ncr1",
    "Gzmb", "Adgre1", "Mrc1", "Itgax"
]

# Scanpy UMAP overlay
sc.pl.umap(
    ST_sample,
    color=genes_plot,
    ncols=5,                 # five panels per row → 2 rows for 10 genes
    size=5,                  # dot size – tweak for your DPI
    frameon=False,
    cmap="viridis",          # continuous colour map
    vmax="p99",              # clip extreme outliers for better contrast
    vmin="p01",
    layer = "counts",
    title=genes_plot         # one title per panel
)





genes_seen = ["Ptprc", "S100a9", "Arg1", "H2-Ab1", "Nos2", "Csf1r", "Cd74", "Mrc1"]
# Scanpy UMAP overlay
sc.pl.umap(
    ST_sample,
    color=genes_seen,
    ncols=4,                 # five panels per row → 2 rows for 10 genes
    size=4,                  # dot size – tweak for your DPI
    frameon=False,
    cmap="viridis",          # continuous colour map
    vmax="p99",              # clip extreme outliers for better contrast
    vmin="p01",
    layer = "counts",
    title=genes_seen         # one title per panel
)



sc.pl.umap(
    ST_sample,
    color='leiden',    # color by your leiden clusters
    palette='tab20',   # nice large color palette
    size=5,            # small dots for large datasets (~1M cells)
    frameon=False,
    title=f'Leiden Clustering {resl}'
)


genes_plot2 = [
    "Ptprc", "Pdcd1", "Ctla4", "Prf1", "Ifng",
    "Ly6g",  "S100a9", "Arg1", "H2-Ab1", "Kit"
]



sc.pl.umap(
    ST_sample,
    color=genes_plot2,
    ncols=5,                 # 5 per row  → 2 rows
    size=5,
    frameon=False,
    cmap="viridis",
    vmax="p99",
    layer = "counts",
    title=genes_plot2
)



genes_plot3 = [
    "Nos2", "Csf1r", "Cd74", "Il1b", "Tnf",
    "S100a8", "Cpa3", "Cd19", "Il2ra"
] #"Fcer1a"



sc.pl.umap(
    ST_sample,
    color=genes_plot3,
    ncols=5,
    size=5,
    frameon=False,
    cmap="viridis",
    vmax="p99",
    layer = "counts",
    title=genes_plot3
)


genes_plot = [
    "Cd4", "Cd3e", "Trac", "Il2ra", "Tbx21",
    "Ifng", "Pdcd1", "Mki67", "Cd69"
]

sc.pl.umap(
    ST_sample,
    color=genes_plot,
    ncols=5,
    size=5,
    frameon=False,
    cmap="viridis",
    vmax="p99",
    vmin="p01",
    layer="counts",      # use raw counts layer if available and appropriate
    title=genes_plot
)






fig, axs = plt.subplots(1, 2, figsize=(12, 6))

# Left plot: labels on UMAP
sc.pl.umap(
    ST_sample,
    color='leiden',
    palette='tab20',
    size=5,
    frameon=False,
    title=f'Leiden Clustering {resl} (on data)',
    legend_loc='on data',
    legend_fontsize='small',
    legend_fontoutline=4,
    ax=axs[0],
    show=False
)

# Right plot: regular legend
sc.pl.umap(
    ST_sample,
    color='leiden',
    palette='tab20',
    size=5,
    frameon=False,
    title=f'Leiden Clustering {resl} (legend)',
    ax=axs[1],
    show=False
)

plt.tight_layout()
plt.show()


# ───── your parameters ─────
cluster_of_interest = "0"      # the Leiden label you want to examine
groupby_key         = "leiden" # the obs column with cluster assignments
n_top               = 50       # how many top genes to return
method              = "wilcoxon"  # 't-test', 'wilcoxon', or 'logreg'
direction           = "up"     # "up", "down", or "all"
# ────────────────────────────


# 1) run ranking (if needed)
sc.tl.rank_genes_groups(
    ST_sample,
    groupby=groupby_key,
    groups=[cluster_of_interest],
    reference="rest",
    n_genes=n_top*100,            # pull extra so you can still get n_top after filtering
    method=method,
    key_added=f"rank_{cluster_of_interest}"
)

# 2) extract results
r      = ST_sample.uns[f"rank_{cluster_of_interest}"]
genes  = r["names"][cluster_of_interest]
pvals  = r["pvals"][cluster_of_interest]
padj   = r["pvals_adj"][cluster_of_interest]

top_genes = pd.DataFrame({
    "gene":     genes,
    "pval":     pvals,
    "pval_adj": padj
})

# 3) compute CPM-normalized log₂FC (as before)
mask   = ST_sample.obs[groupby_key] == cluster_of_interest
counts = ST_sample.layers["counts"]
counts_arr = counts.toarray() if issparse(counts) else counts.copy()
libsize    = counts_arr.sum(axis=1)
counts_cpm = (counts_arr.T / libsize).T * 1e6
mean_in    = counts_cpm[mask.values].mean(axis=0)
mean_out   = counts_cpm[~mask.values].mean(axis=0)
log2fc_all = np.log2((mean_in + 1.0) / (mean_out + 1.0))

top_genes["log2fc"] = [
    log2fc_all[ST_sample.var_names.get_loc(g)]
    for g in top_genes["gene"]
]

# 4) filter by direction and pick the top n_top
if direction.lower() == "up":
    selected = top_genes[top_genes.log2fc > 0] \
                   .nlargest(n_top, "log2fc")
elif direction.lower() == "down":
    selected = top_genes[top_genes.log2fc < 0] \
                   .nsmallest(n_top, "log2fc")
else:  # "all"
    selected = top_genes.head(n_top)

# 5) format p-values in scientific notation
pd.set_option('display.float_format', '{:.2e}'.format)
selected["pval"]     = selected["pval"].map(lambda x: f"{x:.2e}")
selected["pval_adj"] = selected["pval_adj"].map(lambda x: f"{x:.2e}")

print(selected)


import numpy as np
import pandas as pd
from scipy.sparse import issparse
import scanpy as sc

# ─── parameters ───
cluster_of_interest = "0"      # Leiden cluster
groupby_key         = "leiden" # obs column
n_top               = 20       # how many to display in the notebook
n_enrich            = 200      # how many to send to enrichment (50–200 is typical)
method              = "wilcoxon"
direction           = "down"     # "up", "down", or "all"
# ────────────────────────

# run ranking
sc.tl.rank_genes_groups(
    ST_sample,
    groupby=groupby_key,
    groups=[cluster_of_interest],
    reference="rest",
    n_genes=n_enrich*10,            # pull extra so you still have n_enrich after filtering
    method=method,
    key_added=f"rank_{cluster_of_interest}"
)

# extract results
r      = ST_sample.uns[f"rank_{cluster_of_interest}"]
genes  = r["names"][cluster_of_interest]
pvals  = r["pvals"][cluster_of_interest]
padj   = r["pvals_adj"][cluster_of_interest]

top_genes = pd.DataFrame({
    "gene":     genes,
    "pval":     pvals,
    "pval_adj": padj
})

#  compute CPM‐normalized log₂FC
mask        = ST_sample.obs[groupby_key] == cluster_of_interest
counts      = ST_sample.layers["counts"]
counts_arr  = counts.toarray() if issparse(counts) else counts.copy()
libsize     = counts_arr.sum(axis=1)
counts_cpm  = (counts_arr.T / libsize).T * 1e6
mean_in     = counts_cpm[mask.values].mean(axis=0)
mean_out    = counts_cpm[~mask.values].mean(axis=0)
log2fc_all  = np.log2((mean_in + 1.0) / (mean_out + 1.0))

top_genes["log2fc"] = [
    log2fc_all[ST_sample.var_names.get_loc(g)]
    for g in top_genes["gene"]
]

# filter by direction & pick your enrichment set
if direction.lower() == "up":
    selected = (
        top_genes[top_genes.log2fc > 0]
        .nlargest(n_enrich, "log2fc")
    )
elif direction.lower() == "down":
    selected = (
        top_genes[top_genes.log2fc < 0]
        .nsmallest(n_enrich, "log2fc")
    )
else:  # "all"
    selected = top_genes.head(n_enrich)

# format p-values for readability
pd.set_option('display.float_format', '{:.2e}'.format)
selected["pval"]     = selected["pval"].map(lambda x: f"{x:.2e}")
selected["pval_adj"] = selected["pval_adj"].map(lambda x: f"{x:.2e}")

# pull out the gene list for enrichment
gene_list = selected["gene"].tolist()

print(f"Using {len(gene_list)} {direction}-regulated genes for enrichment:\n", selected)

# now you can feed `gene_list` straight into gseapy or enrichr:
# gp.enrichr(gene_list=gene_list, gene_sets=[...], organism="Mouse", outdir=None)



# ─── parameters ───────────────────────────────────────────────────────────────
import numpy as np
import matplotlib.pyplot as plt
import gseapy as gp

# gene_list = [...]          # from previous cell
n_pathways   = 15           # how many pathways to plot
gene_sets = ["GO_Biological_Process_2021"]
# gene_sets = ["WikiPathways_2024_Mouse"]
# gene_sets = ["Reactome_2022"]
# gene_sets    = ["KEGG_2019_Mouse"]  # or ["GO_Biological_Process_2021"], etc.
# ────────────────────────────────────────────────────────────────────────────────

# run Enrichr
enr = gp.enrichr(
    gene_list=gene_list,
    gene_sets=gene_sets,
    organism="Mouse",
    outdir=None,           # don’t write files to disk
)

#  pull results & select top n_pathways
res = enr.results.sort_values("Adjusted P-value").head(n_pathways)

# compute gene‐ratio and –log10(adj p)
#    Overlap is a string like "5/200"
res["Gene_Ratio"]      = res["Overlap"].apply(lambda x: int(x.split("/")[0]) / int(x.split("/")[1]))
res["neg_log10_padj"]  = -np.log10(res["Adjusted P-value"])


# ‒‒ choose width and height in inches
res = res.sort_values("neg_log10_padj", ascending=True)

# now plot exactly as before:
fig, ax = plt.subplots(figsize=(12, n_pathways * 0.4))
sc = ax.scatter(
    res["Gene_Ratio"],
    res["Term"],
    s=res["neg_log10_padj"] * 50,
    c=res["neg_log10_padj"],
    cmap="viridis",
)

ax.set_xlabel("Gene Ratio")
ax.set_title(f"Top {n_pathways} Enriched Pathways ({direction}-regulated)")
plt.colorbar(sc, ax=ax, label="-log10(Adjusted P-value)")

plt.tight_layout()
plt.show()


import gseapy as gp

# this returns a list of all Enrichr gene‐set libraries
all_libs = gp.get_library_name()
print(all_libs)


# ‒‒ choose width and height in inches
res = res.sort_values("neg_log10_padj", ascending=True)

# now plot exactly as before:
fig, ax = plt.subplots(figsize=(12, n_pathways * 0.4))
sc = ax.scatter(
    res["Gene_Ratio"],
    res["Term"],
    s=res["neg_log10_padj"] * 50,
    c=res["neg_log10_padj"],
    cmap="viridis",
)

ax.set_xlabel("Gene Ratio")
ax.set_title(f"Top {n_pathways} Enriched Pathways ({direction}-regulated)")
plt.colorbar(sc, ax=ax, label="-log10(Adjusted P-value)")

plt.tight_layout()
plt.show()





import scanpy as sc
import matplotlib.pyplot as plt
import numpy as np
from pathlib import Path
from matplotlib import rc_context

# Set Scanpy output directory first
fig_out = Path("/Users/janzules/Roselab/Spatial/CAR_T/figures/clustering_results/cyPSCA_1_2")
fig_out.mkdir(parents=True, exist_ok=True)
sc.settings.figdir = fig_out  # <<-- MUST be set before plotting

# DPI
dpi = 400

# Gene list
# Genes missing = "Ms4a1", "Fcer1a", "Il2", "Tigit",
genes_plot_low = [
    # Original set
    "Cd3e", "Cd4", "Cd8a", "Foxp3", "Ncr1",
    "Gzmb", "Adgre1", "Mrc1", "Itgax",
    "Pdcd1", "Ctla4", "Prf1", "Ifng", "Ly6g",
    "Tnf", "S100a8",  "Cpa3", "Cd19", "Il2ra",

    # CAR-T relevant additions
    "Tbx21",   # Th1 transcription factor (T-bet)
    "Cd69",    # early activation
    "Mki67",   # proliferation marker
    "Lag3",    # checkpoint
    "Ccr7",    # lymph node homing receptor
    "Tcf7",    # memory/stem-like CD4 T cells
    "Cxcr3"    # Th1-trafficking chemokine receptor
]


# Threshold
threshold = 0.01

# Custom colormap with grey for NaNs
cmap = plt.cm.viridis.copy()
cmap.set_bad("lightgrey")

# Loop through each gene
for gene in genes_plot_low:
    # Extract expression values
    x = ST_sample.layers["counts"][:, ST_sample.var_names.get_loc(gene)].toarray().flatten()
    
    # Apply threshold
    x_masked = np.where(x < threshold, np.nan, x)
    
    # Store temporarily in .obs
    masked_key = f'{gene}_masked'
    ST_sample.obs[masked_key] = x_masked

    # Create figure with local 600 dpi save setting
    with rc_context({'savefig.dpi': dpi}):
        sc.pl.umap(
            ST_sample,
            color=masked_key,
            size=5,
            frameon=False,
            cmap=cmap,
            title=gene,
            save=f"cellmask_{gene}.png",  # No leading slash
            show=False
        )


from matplotlib import rc_context

genes_seen = ["Ptprc", "S100a9", "Arg1", "H2-Ab1", "Nos2", "Csf1r", "Cd74", "Mrc1"]

# Make sure Scanpy is still pointing to the correct output directory
sc.settings.figdir = fig_out

# Save figure at 600 dpi without displaying
with rc_context({'savefig.dpi': dpi}):
    sc.pl.umap(
        ST_sample,
        color=genes_seen,
        ncols=4,
        size=4,
        frameon=False,
        cmap="viridis",
        vmax="p99",
        vmin="p01",
        layer="counts",
        title=genes_seen,
        save="genes_seen_umap.png",  # Saved inside fig_out
        show=False
    )


with rc_context({'savefig.dpi': dpi}):
    sc.pl.umap(
        ST_sample,
        color='leiden',
        palette='tab20',
        size=5,
        frameon=False,
        title=f'Leiden Clustering {resl}',
        save=f"leiden_clustering_resl.png",
        show=False
    )

fig1 = sc.pl.umap(
    ST_sample,
    color=['sample_id', 'condition'],
    ncols=2,
    size=5,
    frameon=False,
    title=[f'Sample ID - {resl}', f'Condition - {resl}'],
    show=False,
    return_fig=True
)
fig1.savefig(fig_out / "sample_id_condition_umap.png", dpi=dpi, bbox_inches='tight')
plt.close(fig1)

# 2. Mouse
fig2 = sc.pl.umap(
    ST_sample,
    color=['mouse'],
    ncols=1,
    size=5,
    frameon=False,
    title=['Mouse'],
    show=False,
    return_fig=True
)
fig2.savefig(fig_out / "mouse_umap.png", dpi=dpi, bbox_inches='tight')
plt.close(fig2)

# 3. Total UMIs
fig3 = sc.pl.umap(
    ST_sample,
    color='total_counts',
    cmap='magma',
    vmin=min_UMI, vmax=800,
    size=20,
    frameon=False,
    title='UMAP colored by total UMI',
    show=False,
    return_fig=True
)
fig3.savefig(fig_out / "total_umi_umap.png", dpi=dpi, bbox_inches='tight')
plt.close(fig3)

# 1) Extract UMAP coords
umap = ST_sample.obsm["X_umap"]
x, y = umap[:,0], umap[:,1]

# 2) Immune scores & mask
immune_vals = ST_sample.obs["Immune_score"]
threshold = 0.05               # change this to whatever cutoff you want
low_mask  = immune_vals <= threshold
high_mask = ~low_mask

# 3) Make a normalizer for the “high” values
vmin = immune_vals[high_mask].min()
vmax = immune_vals.max()
norm = mcolors.Normalize(vmin=vmin, vmax=vmax)

# 4) Plot grey points first
fig, ax = plt.subplots(figsize=(8,6))
ax.scatter(
    x[low_mask], y[low_mask],
    color="#D3D3D3",       # grey for everything ≤ threshold
    s=5, linewidth=0
)

# 5) Plot colored points on top
sc = ax.scatter(
    x[high_mask], y[high_mask],
    c=immune_vals[high_mask],
    cmap="viridis",
    norm=norm,
    s=5, linewidth=0
)

# 6) Clean up axes
ax.set_xticks([]); ax.set_yticks([])
ax.set_frame_on(False)
ax.set_title(f"Immune module score (grey ≤ {threshold})", fontsize=14)

# 7) Add colorbar for the high‐score range
cbar = fig.colorbar(sc, ax=ax, pad=0.01)
cbar.set_label("Immune_score", rotation=270, labelpad=12)

# 8) Save it
fig_out.mkdir(parents=True, exist_ok=True)
fig.savefig(fig_out / "immune_module_score_thresh_grey_umap.png",
            dpi=dpi, bbox_inches="tight")
plt.close(fig)






























