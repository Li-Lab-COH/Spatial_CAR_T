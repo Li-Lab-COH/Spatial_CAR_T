{
 "cells": [
  {
   "cell_type": "code",
   "execution_count": 7,
   "id": "ed939974-fcef-477b-aa65-30c99dc3448b",
   "metadata": {},
   "outputs": [],
   "source": [
    "from pathlib import Path\n",
    "SEGMENTATION_PATH = Path(\"/mnt/c/Users/jonan/Documents/1Work/RoseLab/Spatial/CAR_T/data/cell_segmentation\")\n",
    "SEGMENTATION_PATH.mkdir(parents=True, exist_ok=True)"
   ]
  },
  {
   "cell_type": "code",
   "execution_count": 8,
   "id": "3601eb03-0424-42ca-9002-edc9043223d3",
   "metadata": {},
   "outputs": [],
   "source": [
    "LOG_FILE = SEGMENTATION_PATH / \"testing.log\""
   ]
  },
  {
   "cell_type": "code",
   "execution_count": 1,
   "id": "23486230-aad6-4037-af40-5c509d7c1713",
   "metadata": {},
   "outputs": [],
   "source": [
    "import logging\n",
    "logger = logging.getLogger(__name__)"
   ]
  },
  {
   "cell_type": "code",
   "execution_count": 2,
   "id": "ff814af0-8919-45e5-850a-cec33a19e109",
   "metadata": {},
   "outputs": [
    {
     "data": {
      "text/plain": [
       "<Logger __main__ (WARNING)>"
      ]
     },
     "execution_count": 2,
     "metadata": {},
     "output_type": "execute_result"
    }
   ],
   "source": [
    "logger"
   ]
  },
  {
   "cell_type": "code",
   "execution_count": 9,
   "id": "b5e33206-0af6-4ffd-9577-308dd35e209f",
   "metadata": {},
   "outputs": [],
   "source": [
    "logging.basicConfig(filename=LOG_FILE, encoding='utf-8', level=logging.DEBUG)"
   ]
  },
  {
   "cell_type": "code",
   "execution_count": 10,
   "id": "07a9911f-b155-4545-bbc6-1434a60d45a8",
   "metadata": {},
   "outputs": [],
   "source": [
    "logger.debug('This message should go to the log file')"
   ]
  },
  {
   "cell_type": "code",
   "execution_count": null,
   "id": "9987a47a-4c0e-41cc-bd75-5976baab6a35",
   "metadata": {},
   "outputs": [],
   "source": [
    "logger.info('So should this')"
   ]
  },
  {
   "cell_type": "code",
   "execution_count": 11,
   "id": "68aeeef4-346d-41df-88fd-10a2f8297801",
   "metadata": {},
   "outputs": [],
   "source": [
    "logger.warning('And this, too')"
   ]
  },
  {
   "cell_type": "code",
   "execution_count": 12,
   "id": "996bce7c-9d90-4101-8ece-ebd264ad0649",
   "metadata": {},
   "outputs": [],
   "source": [
    "logger.error('And non-ASCII stuff, too, like Øresund and Malmö')"
   ]
  }
 ],
 "metadata": {
  "kernelspec": {
   "display_name": "Python 3 (ipykernel)",
   "language": "python",
   "name": "python3"
  },
  "language_info": {
   "codemirror_mode": {
    "name": "ipython",
    "version": 3
   },
   "file_extension": ".py",
   "mimetype": "text/x-python",
   "name": "python",
   "nbconvert_exporter": "python",
   "pygments_lexer": "ipython3",
   "version": "3.11.5"
  }
 },
 "nbformat": 4,
 "nbformat_minor": 5
}
