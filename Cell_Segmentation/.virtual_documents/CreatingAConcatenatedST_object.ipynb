from pathlib import Path
import scanpy as sc
import geopandas as gpd
import pandas as pd


# Paths and samples
segmentation_path = Path(
    "/mnt/c/Users/jonan/Documents/1Work/RoseLab/Spatial/"
    "CAR_T/data/cell_segmentation"
)

Fnumbers = ["F07839","F07840"]
out_dir = segmentation_path / "concatenated"
out_dir.mkdir(parents=True, exist_ok=True)


# 1) Load & concatenate AnnData
adatas = []
for fnum in Fnumbers:
    ad = sc.read_h5ad(segmentation_path / fnum / "labeled_files" / f"{fnum}_labeled_adata.h5ad")
    ad.obs['TMA'] = fnum
    adatas.append(ad)

# stitch them together (preserves each ad.obs['TMA'])
combined_adata = sc.concat(
    adatas,
    join="outer",          # union of var and obs columns
    index_unique=None      # keep original obs_names if possible
)
# save
combined_adata.write(out_dir / "combined_adata.h5ad")
print("Wrote combined AnnData:", out_dir / "combined_adata.h5ad")


# 2) Load & concatenate GeoDataFrames
gdfs = []
for fnum in Fnumbers:
    g = gpd.read_file(segmentation_path / fnum / "labeled_files" / f"{fnum}_nuclei_geometry.gpkg")
    g['TMA'] = fnum
    gdfs.append(g)

combined_geo = gpd.GeoDataFrame(
    pd.concat(gdfs, ignore_index=True),
    crs=gdfs[0].crs
)
combined_geo.to_file(out_dir / "combined_nuclei_geometry.gpkg", driver="GPKG")
print("Wrote combined geometry:", out_dir / "combined_nuclei_geometry.gpkg")


# ───────────────────────────────────────────────────────────────────────────────
# 3) Compute QC metrics and save CSVs
# how many cells per mouse/TMA
mouse_counts = (
    combined_adata.obs['mouse']
    .value_counts()
    .rename_axis('mouse')
    .reset_index(name='n_cells')
)
mouse_counts.to_csv(out_dir / "cell_counts_by_mouse.csv", index=False)

# how many cells per condition
cond_counts = (
    combined_adata.obs['condition']
    .value_counts()
    .rename_axis('condition')
    .reset_index(name='n_cells')
)
cond_counts.to_csv(out_dir / "cell_counts_by_condition.csv", index=False)

# how many cells per sample_id
sample_counts = (
    combined_adata.obs['sample_id']
    .value_counts()
    .rename_axis('sample_id')
    .reset_index(name='n_cells')
)
sample_counts.to_csv(out_dir / "cell_counts_by_sample.csv", index=False)

print("Wrote QC metrics CSVs to:", out_dir)


combined_adata.obs['condition'].unique()


combined_geo
