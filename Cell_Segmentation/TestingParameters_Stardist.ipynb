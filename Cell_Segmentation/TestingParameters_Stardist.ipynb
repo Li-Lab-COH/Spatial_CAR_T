{
 "cells": [
  {
   "cell_type": "code",
   "execution_count": 1,
   "id": "f6369efe-050d-4e87-9a3b-bcb27ecfd9b7",
   "metadata": {},
   "outputs": [
    {
     "name": "stderr",
     "output_type": "stream",
     "text": [
      "2025-05-19 14:26:27.819501: E external/local_xla/xla/stream_executor/cuda/cuda_fft.cc:467] Unable to register cuFFT factory: Attempting to register factory for plugin cuFFT when one has already been registered\n",
      "WARNING: All log messages before absl::InitializeLog() is called are written to STDERR\n",
      "E0000 00:00:1747689987.834520   13841 cuda_dnn.cc:8579] Unable to register cuDNN factory: Attempting to register factory for plugin cuDNN when one has already been registered\n",
      "E0000 00:00:1747689987.839351   13841 cuda_blas.cc:1407] Unable to register cuBLAS factory: Attempting to register factory for plugin cuBLAS when one has already been registered\n",
      "W0000 00:00:1747689987.851489   13841 computation_placer.cc:177] computation placer already registered. Please check linkage and avoid linking the same target more than once.\n",
      "W0000 00:00:1747689987.851542   13841 computation_placer.cc:177] computation placer already registered. Please check linkage and avoid linking the same target more than once.\n",
      "W0000 00:00:1747689987.851544   13841 computation_placer.cc:177] computation placer already registered. Please check linkage and avoid linking the same target more than once.\n",
      "W0000 00:00:1747689987.851545   13841 computation_placer.cc:177] computation placer already registered. Please check linkage and avoid linking the same target more than once.\n",
      "2025-05-19 14:26:27.855426: I tensorflow/core/platform/cpu_feature_guard.cc:210] This TensorFlow binary is optimized to use available CPU instructions in performance-critical operations.\n",
      "To enable the following instructions: AVX2 FMA, in other operations, rebuild TensorFlow with the appropriate compiler flags.\n"
     ]
    }
   ],
   "source": [
    "\"\"\"\n",
    "parameter_test_stardist.py\n",
    "\n",
    "Standalone script to test multiple StarDist parameters on a single H&E image and save overlay results.\n",
    "\"\"\"\n",
    "import os\n",
    "from pathlib import Path\n",
    "import tifffile\n",
    "from csbdeep.utils import normalize\n",
    "from stardist.models import StarDist2D\n",
    "import matplotlib.pyplot as plt"
   ]
  },
  {
   "cell_type": "code",
   "execution_count": 2,
   "id": "f01d47d6-285d-48e8-b68d-9de2cde00e8c",
   "metadata": {},
   "outputs": [],
   "source": [
    "# -----------------------------\n",
    "# Configuration\n",
    "# -----------------------------\n",
    "# Path to the F07839 H&E TIFF image\n",
    "IMAGE_PATH = Path(\n",
    "    \"/mnt/c/Users/jonan/Documents/1Work/RoseLab/Spatial/dietary_droject/data/images_for_alignments\"\n",
    "    \"/121724-121924_RL_mRT_TMA4_1_TMA5_1/hne/121724_RL_mRT_TMA4_Slide_1.tif\"\n",
    ")\n",
    "# Directory to save parameter test overlays\n",
    "OUTPUT_DIR = Path(\n",
    "    \"/mnt/c/Users/jonan/Documents/1Work/RoseLab/Spatial/CAR_T/data/cell_segmentation/parameter_test\"\n",
    ")"
   ]
  },
  {
   "cell_type": "code",
   "execution_count": 10,
   "id": "29032e8e-3ef2-4f77-a2e5-69000edbf56f",
   "metadata": {},
   "outputs": [],
   "source": [
    "# Normalization percentiles\n",
    "MIN_PERCENTILE = 5\n",
    "MAX_PERCENTILE = 95\n",
    "\n",
    "# StarDist big-segmentation tile settings\n",
    "BLOCK_SIZE = 2048      # tile size (px)\n",
    "MIN_OVERLAP = 256      # overlap between tiles\n",
    "CONTEXT = 94           # extra border context\n",
    "\n",
    "# Parameter grids to test\n",
    "PROB_THRESHOLDS = [0.33, 0.25, 0.20, 0.15]\n",
    "NMS_THRESHOLDS = [0.10, 0.05, 0.03]\n",
    "\n",
    "# -----------------------------\n",
    "# Ensure output directory exists\n",
    "# -----------------------------\n",
    "OUTPUT_DIR.mkdir(parents=True, exist_ok=True)"
   ]
  },
  {
   "cell_type": "code",
   "execution_count": 11,
   "id": "85ea9536-fb0c-4bec-822e-7b85c48dfc19",
   "metadata": {},
   "outputs": [
    {
     "name": "stdout",
     "output_type": "stream",
     "text": [
      "Loading image: /mnt/c/Users/jonan/Documents/1Work/RoseLab/Spatial/dietary_droject/data/images_for_alignments/121724-121924_RL_mRT_TMA4_1_TMA5_1/hne/121724_RL_mRT_TMA4_Slide_1.tif\n",
      "Loading StarDist model: 2D_versatile_he\n",
      "Found model '2D_versatile_he' for 'StarDist2D'.\n",
      "Loading network weights from 'weights_best.h5'.\n",
      "Loading thresholds from 'thresholds.json'.\n",
      "Using default values: prob_thresh=0.692478, nms_thresh=0.3.\n"
     ]
    }
   ],
   "source": [
    "# -----------------------------\n",
    "# Load and normalize image\n",
    "# -----------------------------\n",
    "print(f\"Loading image: {IMAGE_PATH}\")\n",
    "img = tifffile.imread(str(IMAGE_PATH))\n",
    "img_norm = normalize(img, MIN_PERCENTILE, MAX_PERCENTILE, axis=(0,1,2))\n",
    "\n",
    "# -----------------------------\n",
    "# Load pre-trained StarDist model\n",
    "# -----------------------------\n",
    "print(\"Loading StarDist model: 2D_versatile_he\")\n",
    "model = StarDist2D.from_pretrained(\"2D_versatile_he\")"
   ]
  },
  {
   "cell_type": "code",
   "execution_count": 12,
   "id": "8504d0d1-353e-4f39-883d-d28d062509d9",
   "metadata": {},
   "outputs": [
    {
     "name": "stdout",
     "output_type": "stream",
     "text": [
      "Running segmentation with prob_thresh=0.33, nms_thresh=0.1\n",
      "effective: block_size=(2048, 2048, 3), min_overlap=(256, 256, 0), context=(96, 96, 0)\n"
     ]
    },
    {
     "name": "stderr",
     "output_type": "stream",
     "text": [
      "100%|███████████████████████████████████████████████████████████████████████████████| 56/56 [00:55<00:00,  1.00it/s]\n"
     ]
    },
    {
     "name": "stdout",
     "output_type": "stream",
     "text": [
      "Saved overlay: /mnt/c/Users/jonan/Documents/1Work/RoseLab/Spatial/CAR_T/data/cell_segmentation/parameter_test/F07839_p0.33_nms0.1_overlay.png\n",
      "Running segmentation with prob_thresh=0.33, nms_thresh=0.05\n",
      "effective: block_size=(2048, 2048, 3), min_overlap=(256, 256, 0), context=(96, 96, 0)\n"
     ]
    },
    {
     "name": "stderr",
     "output_type": "stream",
     "text": [
      "100%|███████████████████████████████████████████████████████████████████████████████| 56/56 [00:57<00:00,  1.02s/it]\n"
     ]
    },
    {
     "name": "stdout",
     "output_type": "stream",
     "text": [
      "Saved overlay: /mnt/c/Users/jonan/Documents/1Work/RoseLab/Spatial/CAR_T/data/cell_segmentation/parameter_test/F07839_p0.33_nms0.05_overlay.png\n",
      "Running segmentation with prob_thresh=0.33, nms_thresh=0.03\n",
      "effective: block_size=(2048, 2048, 3), min_overlap=(256, 256, 0), context=(96, 96, 0)\n"
     ]
    },
    {
     "name": "stderr",
     "output_type": "stream",
     "text": [
      "100%|███████████████████████████████████████████████████████████████████████████████| 56/56 [00:56<00:00,  1.00s/it]\n"
     ]
    },
    {
     "name": "stdout",
     "output_type": "stream",
     "text": [
      "Saved overlay: /mnt/c/Users/jonan/Documents/1Work/RoseLab/Spatial/CAR_T/data/cell_segmentation/parameter_test/F07839_p0.33_nms0.03_overlay.png\n",
      "Running segmentation with prob_thresh=0.25, nms_thresh=0.1\n",
      "effective: block_size=(2048, 2048, 3), min_overlap=(256, 256, 0), context=(96, 96, 0)\n"
     ]
    },
    {
     "name": "stderr",
     "output_type": "stream",
     "text": [
      "100%|███████████████████████████████████████████████████████████████████████████████| 56/56 [00:58<00:00,  1.04s/it]\n"
     ]
    },
    {
     "name": "stdout",
     "output_type": "stream",
     "text": [
      "Saved overlay: /mnt/c/Users/jonan/Documents/1Work/RoseLab/Spatial/CAR_T/data/cell_segmentation/parameter_test/F07839_p0.25_nms0.1_overlay.png\n",
      "Running segmentation with prob_thresh=0.25, nms_thresh=0.05\n",
      "effective: block_size=(2048, 2048, 3), min_overlap=(256, 256, 0), context=(96, 96, 0)\n"
     ]
    },
    {
     "name": "stderr",
     "output_type": "stream",
     "text": [
      "100%|███████████████████████████████████████████████████████████████████████████████| 56/56 [01:03<00:00,  1.14s/it]\n"
     ]
    },
    {
     "name": "stdout",
     "output_type": "stream",
     "text": [
      "Saved overlay: /mnt/c/Users/jonan/Documents/1Work/RoseLab/Spatial/CAR_T/data/cell_segmentation/parameter_test/F07839_p0.25_nms0.05_overlay.png\n",
      "Running segmentation with prob_thresh=0.25, nms_thresh=0.03\n",
      "effective: block_size=(2048, 2048, 3), min_overlap=(256, 256, 0), context=(96, 96, 0)\n"
     ]
    },
    {
     "name": "stderr",
     "output_type": "stream",
     "text": [
      "100%|███████████████████████████████████████████████████████████████████████████████| 56/56 [01:03<00:00,  1.13s/it]\n"
     ]
    },
    {
     "name": "stdout",
     "output_type": "stream",
     "text": [
      "Saved overlay: /mnt/c/Users/jonan/Documents/1Work/RoseLab/Spatial/CAR_T/data/cell_segmentation/parameter_test/F07839_p0.25_nms0.03_overlay.png\n",
      "Running segmentation with prob_thresh=0.2, nms_thresh=0.1\n",
      "effective: block_size=(2048, 2048, 3), min_overlap=(256, 256, 0), context=(96, 96, 0)\n"
     ]
    },
    {
     "name": "stderr",
     "output_type": "stream",
     "text": [
      "100%|███████████████████████████████████████████████████████████████████████████████| 56/56 [01:06<00:00,  1.19s/it]\n"
     ]
    },
    {
     "name": "stdout",
     "output_type": "stream",
     "text": [
      "Saved overlay: /mnt/c/Users/jonan/Documents/1Work/RoseLab/Spatial/CAR_T/data/cell_segmentation/parameter_test/F07839_p0.2_nms0.1_overlay.png\n",
      "Running segmentation with prob_thresh=0.2, nms_thresh=0.05\n",
      "effective: block_size=(2048, 2048, 3), min_overlap=(256, 256, 0), context=(96, 96, 0)\n"
     ]
    },
    {
     "name": "stderr",
     "output_type": "stream",
     "text": [
      "100%|███████████████████████████████████████████████████████████████████████████████| 56/56 [01:04<00:00,  1.16s/it]\n"
     ]
    },
    {
     "name": "stdout",
     "output_type": "stream",
     "text": [
      "Saved overlay: /mnt/c/Users/jonan/Documents/1Work/RoseLab/Spatial/CAR_T/data/cell_segmentation/parameter_test/F07839_p0.2_nms0.05_overlay.png\n",
      "Running segmentation with prob_thresh=0.2, nms_thresh=0.03\n",
      "effective: block_size=(2048, 2048, 3), min_overlap=(256, 256, 0), context=(96, 96, 0)\n"
     ]
    },
    {
     "name": "stderr",
     "output_type": "stream",
     "text": [
      "100%|███████████████████████████████████████████████████████████████████████████████| 56/56 [01:11<00:00,  1.28s/it]\n"
     ]
    },
    {
     "name": "stdout",
     "output_type": "stream",
     "text": [
      "Saved overlay: /mnt/c/Users/jonan/Documents/1Work/RoseLab/Spatial/CAR_T/data/cell_segmentation/parameter_test/F07839_p0.2_nms0.03_overlay.png\n",
      "Running segmentation with prob_thresh=0.15, nms_thresh=0.1\n",
      "effective: block_size=(2048, 2048, 3), min_overlap=(256, 256, 0), context=(96, 96, 0)\n"
     ]
    },
    {
     "name": "stderr",
     "output_type": "stream",
     "text": [
      "100%|███████████████████████████████████████████████████████████████████████████████| 56/56 [01:14<00:00,  1.34s/it]\n"
     ]
    },
    {
     "name": "stdout",
     "output_type": "stream",
     "text": [
      "Saved overlay: /mnt/c/Users/jonan/Documents/1Work/RoseLab/Spatial/CAR_T/data/cell_segmentation/parameter_test/F07839_p0.15_nms0.1_overlay.png\n",
      "Running segmentation with prob_thresh=0.15, nms_thresh=0.05\n",
      "effective: block_size=(2048, 2048, 3), min_overlap=(256, 256, 0), context=(96, 96, 0)\n"
     ]
    },
    {
     "name": "stderr",
     "output_type": "stream",
     "text": [
      "100%|███████████████████████████████████████████████████████████████████████████████| 56/56 [01:10<00:00,  1.26s/it]\n"
     ]
    },
    {
     "name": "stdout",
     "output_type": "stream",
     "text": [
      "Saved overlay: /mnt/c/Users/jonan/Documents/1Work/RoseLab/Spatial/CAR_T/data/cell_segmentation/parameter_test/F07839_p0.15_nms0.05_overlay.png\n",
      "Running segmentation with prob_thresh=0.15, nms_thresh=0.03\n",
      "effective: block_size=(2048, 2048, 3), min_overlap=(256, 256, 0), context=(96, 96, 0)\n"
     ]
    },
    {
     "name": "stderr",
     "output_type": "stream",
     "text": [
      "100%|███████████████████████████████████████████████████████████████████████████████| 56/56 [01:17<00:00,  1.38s/it]\n"
     ]
    },
    {
     "name": "stdout",
     "output_type": "stream",
     "text": [
      "Saved overlay: /mnt/c/Users/jonan/Documents/1Work/RoseLab/Spatial/CAR_T/data/cell_segmentation/parameter_test/F07839_p0.15_nms0.03_overlay.png\n",
      "Parameter test complete.\n"
     ]
    }
   ],
   "source": [
    "# -----------------------------\n",
    "# Parameter sweep\n",
    "# -----------------------------\n",
    "for p in PROB_THRESHOLDS:\n",
    "    for nms in NMS_THRESHOLDS:\n",
    "        print(f\"Running segmentation with prob_thresh={p}, nms_thresh={nms}\")\n",
    "        labels, polys = model.predict_instances_big(\n",
    "            img_norm,\n",
    "            axes='YXC',\n",
    "            block_size=BLOCK_SIZE,\n",
    "            min_overlap=MIN_OVERLAP,\n",
    "            context=CONTEXT,\n",
    "            prob_thresh=p,\n",
    "            nms_thresh=nms\n",
    "        )\n",
    "\n",
    "        # Overlay and save\n",
    "        fig, ax = plt.subplots(figsize=(10,10))\n",
    "        ax.imshow(img)\n",
    "        ax.imshow(labels, cmap='jet', alpha=0.3)\n",
    "        ax.axis('off')\n",
    "\n",
    "        out_file = OUTPUT_DIR / f\"F07839_p{p}_nms{nms}_overlay.png\"\n",
    "        fig.savefig(str(out_file), dpi=900, bbox_inches='tight', pad_inches=0)\n",
    "        plt.close(fig)\n",
    "        print(f\"Saved overlay: {out_file}\")\n",
    "\n",
    "print(\"Parameter test complete.\")"
   ]
  },
  {
   "cell_type": "code",
   "execution_count": null,
   "id": "74467d1a-519c-4cfa-bfad-f8bbc24be93f",
   "metadata": {},
   "outputs": [],
   "source": []
  }
 ],
 "metadata": {
  "kernelspec": {
   "display_name": "Python (spatial-nuclei)",
   "language": "python",
   "name": "spatial-nuclei"
  },
  "language_info": {
   "codemirror_mode": {
    "name": "ipython",
    "version": 3
   },
   "file_extension": ".py",
   "mimetype": "text/x-python",
   "name": "python",
   "nbconvert_exporter": "python",
   "pygments_lexer": "ipython3",
   "version": "3.10.17"
  }
 },
 "nbformat": 4,
 "nbformat_minor": 5
}
